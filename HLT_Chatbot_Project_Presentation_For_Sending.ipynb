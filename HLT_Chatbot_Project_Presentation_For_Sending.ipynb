{
  "nbformat": 4,
  "nbformat_minor": 0,
  "metadata": {
    "colab": {
      "provenance": [],
      "collapsed_sections": []
    },
    "kernelspec": {
      "name": "python3",
      "display_name": "Python 3"
    },
    "language_info": {
      "name": "python"
    }
  },
  "cells": [
    {
      "cell_type": "markdown",
      "source": [
        "# HLT Chatbot Project Presentation\n",
        "\n",
        "\n",
        "Simply run every cell in this notebook (Runtime -> Run all), scroll to the bottom, and wait for it to prompt you for your input. As long as you don't reset the runtime, data should be stored and retained in the database across sessions JUST SO LONG as you don't interrupt individual cells. This means that, if you want to restart the bot while retaining the same data, you should use \"Runtime\" -> \"Restart and run all\"; that will ensure that the CoreNLP environment is properly reloaded."
      ],
      "metadata": {
        "id": "1oE15VOlXJc-"
      }
    },
    {
      "cell_type": "code",
      "source": [
        "!apt install sqlite3"
      ],
      "metadata": {
        "colab": {
          "base_uri": "https://localhost:8080/"
        },
        "id": "CqMdalaCWX1q",
        "outputId": "d0a941b6-ce53-4f3f-d973-166de387a044"
      },
      "execution_count": null,
      "outputs": [
        {
          "output_type": "stream",
          "name": "stdout",
          "text": [
            "Reading package lists... Done\n",
            "Building dependency tree       \n",
            "Reading state information... Done\n",
            "Suggested packages:\n",
            "  sqlite3-doc\n",
            "The following NEW packages will be installed:\n",
            "  sqlite3\n",
            "0 upgraded, 1 newly installed, 0 to remove and 40 not upgraded.\n",
            "Need to get 752 kB of archives.\n",
            "After this operation, 2,482 kB of additional disk space will be used.\n",
            "Get:1 http://archive.ubuntu.com/ubuntu bionic-updates/main amd64 sqlite3 amd64 3.22.0-1ubuntu0.4 [752 kB]\n",
            "Fetched 752 kB in 1s (1,395 kB/s)\n",
            "Selecting previously unselected package sqlite3.\n",
            "(Reading database ... 155501 files and directories currently installed.)\n",
            "Preparing to unpack .../sqlite3_3.22.0-1ubuntu0.4_amd64.deb ...\n",
            "Unpacking sqlite3 (3.22.0-1ubuntu0.4) ...\n",
            "Setting up sqlite3 (3.22.0-1ubuntu0.4) ...\n",
            "Processing triggers for man-db (2.8.3-2ubuntu0.1) ...\n"
          ]
        }
      ]
    },
    {
      "cell_type": "code",
      "execution_count": null,
      "metadata": {
        "id": "eFoG-KOLXG8e",
        "colab": {
          "base_uri": "https://localhost:8080/"
        },
        "outputId": "d3155436-fdac-48d9-ac45-41eb803037a1"
      },
      "outputs": [
        {
          "output_type": "stream",
          "name": "stdout",
          "text": [
            "Downloading chatbot code\n",
            "  % Total    % Received % Xferd  Average Speed   Time    Time     Time  Current\n",
            "                                 Dload  Upload   Total   Spent    Left  Speed\n",
            "100 4265k  100 4265k    0     0   889k      0  0:00:04  0:00:04 --:--:--  921k\n",
            "Unzipping with supplied password\n"
          ]
        }
      ],
      "source": [
        "import os\n",
        "if not os.path.exists(\"bot.py\"):\n",
        "  print(\"Downloading chatbot code\")\n",
        "  !curl https://personal.utdallas.edu/~atm170000/HLTChatbot.zip > HLTChatbot.zip\n",
        "\n",
        "  password = b\"HLTChatbotLetsNowRunIt...\"\n",
        "\n",
        "  print(\"Unzipping with supplied password\")\n",
        "  from zipfile import ZipFile\n",
        "  zf = ZipFile(\"HLTChatbot.zip\")\n",
        "\n",
        "  zf.extractall(\".\", pwd=password)"
      ]
    },
    {
      "cell_type": "code",
      "source": [
        "import glob\n",
        "\n",
        "if not os.path.isfile(\"CoreNLP.zip\"):\n",
        "  print(\"Downloading Stanford CoreNLP\")\n",
        "  !curl -L https://nlp.stanford.edu/software/stanford-corenlp-latest.zip > CoreNLP.zip\n",
        "  print(\"Extracting Stanford CoreNLP\")\n",
        "  !unzip CoreNLP.zip\n",
        "\n",
        "  f = open(\"corenlp.pth\", \"w\")\n",
        "  jf_1 = glob.glob(\"stanford-corenlp-?.?.?/stanford-corenlp-?.?.?.jar\")[0]\n",
        "  jf_2 = glob.glob(\"stanford-corenlp-?.?.?/stanford-corenlp-?.?.?-models.jar\")[0]\n",
        "  f.write(jf_1 + \"\\n\" + jf_2)\n",
        "  f.close()"
      ],
      "metadata": {
        "id": "BA77VZl2X8zz",
        "colab": {
          "base_uri": "https://localhost:8080/"
        },
        "outputId": "31b4855a-be2b-412d-dc96-a0e0cbce894d"
      },
      "execution_count": null,
      "outputs": [
        {
          "output_type": "stream",
          "name": "stdout",
          "text": [
            "Downloading Stanford CoreNLP\n",
            "  % Total    % Received % Xferd  Average Speed   Time    Time     Time  Current\n",
            "                                 Dload  Upload   Total   Spent    Left  Speed\n",
            "  0   355    0     0    0     0      0      0 --:--:-- --:--:-- --:--:--     0\n",
            "100  481M  100  481M    0     0  5421k      0  0:01:31  0:01:31 --:--:-- 5122k\n",
            "Extracting Stanford CoreNLP\n",
            "Archive:  CoreNLP.zip\n",
            "   creating: stanford-corenlp-4.4.0/\n",
            "  inflating: stanford-corenlp-4.4.0/jaxb-api-2.4.0-b180830.0359-sources.jar  \n",
            "  inflating: stanford-corenlp-4.4.0/LIBRARY-LICENSES  \n",
            "  inflating: stanford-corenlp-4.4.0/slf4j-api.jar  \n",
            "  inflating: stanford-corenlp-4.4.0/pom.xml  \n",
            "  inflating: stanford-corenlp-4.4.0/Makefile  \n",
            "  inflating: stanford-corenlp-4.4.0/stanford-corenlp-4.4.0-sources.jar  \n",
            "  inflating: stanford-corenlp-4.4.0/input.txt.xml  \n",
            "  inflating: stanford-corenlp-4.4.0/javax.activation-api-1.2.0.jar  \n",
            "  inflating: stanford-corenlp-4.4.0/LICENSE.txt  \n",
            "  inflating: stanford-corenlp-4.4.0/CoreNLP-to-HTML.xsl  \n",
            "  inflating: stanford-corenlp-4.4.0/joda-time.jar  \n",
            "   creating: stanford-corenlp-4.4.0/sutime/\n",
            "  inflating: stanford-corenlp-4.4.0/sutime/english.sutime.txt  \n",
            "  inflating: stanford-corenlp-4.4.0/sutime/spanish.sutime.txt  \n",
            "  inflating: stanford-corenlp-4.4.0/sutime/defs.sutime.txt  \n",
            "  inflating: stanford-corenlp-4.4.0/sutime/british.sutime.txt  \n",
            "  inflating: stanford-corenlp-4.4.0/sutime/english.holidays.sutime.txt  \n",
            "  inflating: stanford-corenlp-4.4.0/StanfordDependenciesManual.pdf  \n",
            "  inflating: stanford-corenlp-4.4.0/jaxb-impl-2.4.0-b180830.0438.jar  \n",
            "  inflating: stanford-corenlp-4.4.0/RESOURCE-LICENSES  \n",
            "  inflating: stanford-corenlp-4.4.0/jollyday.jar  \n",
            "   creating: stanford-corenlp-4.4.0/tokensregex/\n",
            "  inflating: stanford-corenlp-4.4.0/tokensregex/color.rules.txt  \n",
            "  inflating: stanford-corenlp-4.4.0/tokensregex/color.properties  \n",
            "  inflating: stanford-corenlp-4.4.0/tokensregex/retokenize.txt  \n",
            "  inflating: stanford-corenlp-4.4.0/tokensregex/color.input.txt  \n",
            "  inflating: stanford-corenlp-4.4.0/protobuf-java-3.19.2.jar  \n",
            "  inflating: stanford-corenlp-4.4.0/stanford-corenlp-4.4.0.jar  \n",
            "  inflating: stanford-corenlp-4.4.0/input.txt  \n",
            "  inflating: stanford-corenlp-4.4.0/slf4j-simple.jar  \n",
            "  inflating: stanford-corenlp-4.4.0/ejml-simple-0.39.jar  \n",
            "  inflating: stanford-corenlp-4.4.0/javax.json.jar  \n",
            "  inflating: stanford-corenlp-4.4.0/corenlp.sh  \n",
            "  inflating: stanford-corenlp-4.4.0/istack-commons-runtime-3.0.7.jar  \n",
            "  inflating: stanford-corenlp-4.4.0/ejml-core-0.39.jar  \n",
            "  inflating: stanford-corenlp-4.4.0/javax.json-api-1.0-sources.jar  \n",
            "  inflating: stanford-corenlp-4.4.0/jaxb-api-2.4.0-b180830.0359.jar  \n",
            "  inflating: stanford-corenlp-4.4.0/istack-commons-runtime-3.0.7-sources.jar  \n",
            "  inflating: stanford-corenlp-4.4.0/pom-java-11.xml  \n",
            "  inflating: stanford-corenlp-4.4.0/SemgrexDemo.java  \n",
            "  inflating: stanford-corenlp-4.4.0/ShiftReduceDemo.java  \n",
            "  inflating: stanford-corenlp-4.4.0/jaxb-impl-2.4.0-b180830.0438-sources.jar  \n",
            "   creating: stanford-corenlp-4.4.0/patterns/\n",
            "  inflating: stanford-corenlp-4.4.0/patterns/example.properties  \n",
            "  inflating: stanford-corenlp-4.4.0/patterns/stopwords.txt  \n",
            " extracting: stanford-corenlp-4.4.0/patterns/goldplaces.txt  \n",
            "  inflating: stanford-corenlp-4.4.0/patterns/goldnames.txt  \n",
            "  inflating: stanford-corenlp-4.4.0/patterns/names.txt  \n",
            " extracting: stanford-corenlp-4.4.0/patterns/places.txt  \n",
            " extracting: stanford-corenlp-4.4.0/patterns/otherpeople.txt  \n",
            "  inflating: stanford-corenlp-4.4.0/patterns/presidents.txt  \n",
            "  inflating: stanford-corenlp-4.4.0/xom-1.3.7-sources.jar  \n",
            "  inflating: stanford-corenlp-4.4.0/jollyday-0.4.9-sources.jar  \n",
            "  inflating: stanford-corenlp-4.4.0/build.xml  \n",
            "  inflating: stanford-corenlp-4.4.0/javax.activation-api-1.2.0-sources.jar  \n",
            "  inflating: stanford-corenlp-4.4.0/StanfordCoreNlpDemo.java  \n",
            "  inflating: stanford-corenlp-4.4.0/README.txt  \n",
            "  inflating: stanford-corenlp-4.4.0/pom-java-17.xml  \n",
            "  inflating: stanford-corenlp-4.4.0/ejml-ddense-0.39-sources.jar  \n",
            "  inflating: stanford-corenlp-4.4.0/ejml-simple-0.39-sources.jar  \n",
            "  inflating: stanford-corenlp-4.4.0/ejml-ddense-0.39.jar  \n",
            "  inflating: stanford-corenlp-4.4.0/joda-time-2.10.5-sources.jar  \n",
            "  inflating: stanford-corenlp-4.4.0/xom.jar  \n",
            "  inflating: stanford-corenlp-4.4.0/stanford-corenlp-4.4.0-models.jar  \n",
            "  inflating: stanford-corenlp-4.4.0/input.txt.out  \n",
            "  inflating: stanford-corenlp-4.4.0/ejml-core-0.39-sources.jar  \n",
            "  inflating: stanford-corenlp-4.4.0/stanford-corenlp-4.4.0-javadoc.jar  \n"
          ]
        }
      ]
    },
    {
      "cell_type": "code",
      "source": [
        "!cat corenlp.pth"
      ],
      "metadata": {
        "id": "8PUwvhdadtOt",
        "colab": {
          "base_uri": "https://localhost:8080/"
        },
        "outputId": "ccd73a77-edae-412f-dd7d-ed53f57b3a3a"
      },
      "execution_count": null,
      "outputs": [
        {
          "output_type": "stream",
          "name": "stdout",
          "text": [
            "stanford-corenlp-4.4.0/stanford-corenlp-4.4.0.jar\n",
            "stanford-corenlp-4.4.0/stanford-corenlp-4.4.0-models.jar"
          ]
        }
      ]
    },
    {
      "cell_type": "code",
      "source": [
        "# To run on Colab, we need to alter corenlp.py slightly to get around used Colab ports\n",
        "\n",
        "#@markdown\n",
        "f = open(\"corenlp.py\", \"w\")\n",
        "f.write('''\n",
        "# A test script that runs the input through CoreNLP through NLTK\n",
        "\n",
        "import atexit, sys, os, code\n",
        "from nltk.parse.corenlp import CoreNLPServer, CoreNLPParser\n",
        "from nltk import word_tokenize\n",
        "\n",
        "print(\"Loading CoreNLP Server...\")\n",
        "\n",
        "config_file = \"corenlp.pth\"\n",
        "if not os.path.isfile(config_file):\n",
        "    warning_msg = f\"Warning: {config_file} does not exist. Hopefully, the required jarfiles for Stanford CoreNLP are in the path. \" + \\\n",
        "                  f\"Otherwise, please download them from https://stanfordnlp.github.io/CoreNLP/download.html and put the paths to \" + \\\n",
        "                  f\"stanford-corenlp-X.X.X.jar and stanford-corenlp-X.X.X-models.jar as the first two lines of corenlp.pth.\"\n",
        "    print(warning_msg, file=sys.stderr)\n",
        "    corenlp_server = None\n",
        "    corenlp_models = None\n",
        "else:\n",
        "    with open(config_file, \"r\") as f:\n",
        "        corenlp_server = f.readline().strip()\n",
        "        corenlp_models = f.readline().strip()\n",
        "\n",
        "corenlp_options = [\"-preload\", \"tokenize,ssplit,pos,lemma,parse,depparse,ner,openie\"]\n",
        "\n",
        "import random\n",
        "port = random.randint(9000, 30000)\n",
        "print(\"Using port\", port)\n",
        "\n",
        "corenlp_options.append(\"-port\")\n",
        "corenlp_options.append(str(port))\n",
        "\n",
        "server = CoreNLPServer(corenlp_server, corenlp_models, corenlp_options=corenlp_options, port=port)\n",
        "server.start() #(open(\"stdout.log\", \"wb\"), open(\"stderr.log\", \"wb\"))\n",
        "atexit.register(server.stop)\n",
        "\n",
        "parser = CoreNLPParser(server.url)\n",
        "\n",
        "# item = list(parser.parse(word_tokenize(\"The end of the world is upon us, and Mario Kart 3 won't help.\")))[0]\n",
        "\n",
        "if __name__ == \"__main__\":\n",
        "    if 'interact' in sys.argv:\n",
        "        code.interact(local=locals())\n",
        "    else:\n",
        "        print(\"Enter sentences to be parsed\")\n",
        "        while True:\n",
        "            for i, tree in enumerate(parser.parse(word_tokenize(input(\"> \")))):\n",
        "                print(f\"Tree {i+1}:\")\n",
        "                print(tree)\n",
        "''')\n",
        "f.close()"
      ],
      "metadata": {
        "id": "eoyyR-srh0ZO"
      },
      "execution_count": null,
      "outputs": []
    },
    {
      "cell_type": "code",
      "source": [
        "# Workaround the expectation that the server will start up within thirty seconds\n",
        "path = \"/usr/local/lib/python3.7/dist-packages/nltk/parse/corenlp.py\"\n",
        "data = open(path, \"r\").read()\n",
        "f = open(path, \"w\")\n",
        "data = data.replace(\"for i in range(30):\", \"for i in range(90):\\n            print('waiting...' + str(i + 1))\\n\")\n",
        "data = data.replace(\"def try_port(port=0):\\n\", \"def try_port(port=0):\\n    return port\\n\")\n",
        "stem = '''            raise CoreNLPServerError(\n",
        "                'Could not connect to the server.'\n",
        "            )'''\n",
        "data = data.replace(stem, '            if self.popen.poll() is not None: print(self.popen.poll(), self.popen.communicate()[1].decode(\"utf-8\"))\\n' + stem.replace(\"Could\", \"!!Could\"))\n",
        "f.write(data)\n",
        "f.close()"
      ],
      "metadata": {
        "id": "JqLJCqIqmJ8z"
      },
      "execution_count": null,
      "outputs": []
    },
    {
      "cell_type": "code",
      "source": [
        "# Import nltk and download necessary extra submodules\n",
        "import nltk\n",
        "nltk.download(\"wordnet\")\n",
        "nltk.download(\"punkt\")\n",
        "nltk.download(\"averaged_perceptron_tagger\")"
      ],
      "metadata": {
        "id": "IfbSszcSuJP4",
        "colab": {
          "base_uri": "https://localhost:8080/"
        },
        "outputId": "5aff246f-c6f0-482f-e228-f5f8fff4c5bf"
      },
      "execution_count": null,
      "outputs": [
        {
          "output_type": "stream",
          "name": "stdout",
          "text": [
            "[nltk_data] Downloading package wordnet to /root/nltk_data...\n",
            "[nltk_data]   Unzipping corpora/wordnet.zip.\n",
            "[nltk_data] Downloading package punkt to /root/nltk_data...\n",
            "[nltk_data]   Unzipping tokenizers/punkt.zip.\n",
            "[nltk_data] Downloading package averaged_perceptron_tagger to\n",
            "[nltk_data]     /root/nltk_data...\n",
            "[nltk_data]   Unzipping taggers/averaged_perceptron_tagger.zip.\n"
          ]
        },
        {
          "output_type": "execute_result",
          "data": {
            "text/plain": [
              "True"
            ]
          },
          "metadata": {},
          "execution_count": 7
        }
      ]
    },
    {
      "cell_type": "code",
      "source": [
        "print(\"Please note: loading CoreNLP may take up to ninety seconds.\")\n",
        "from bot import *"
      ],
      "metadata": {
        "id": "d0Ei43pkfIQF",
        "colab": {
          "base_uri": "https://localhost:8080/"
        },
        "outputId": "e71ad1cb-12d8-4a25-d0d6-0e7272ebb6eb"
      },
      "execution_count": null,
      "outputs": [
        {
          "output_type": "stream",
          "name": "stdout",
          "text": [
            "Please note: loading CoreNLP may take up to ninety seconds.\n",
            "Loading CoreNLP Server...\n",
            "Using port 19170\n",
            "waiting...1\n",
            "waiting...2\n",
            "waiting...3\n",
            "waiting...4\n",
            "waiting...5\n",
            "waiting...6\n",
            "waiting...7\n",
            "waiting...8\n",
            "waiting...9\n",
            "waiting...10\n",
            "waiting...11\n",
            "waiting...12\n",
            "waiting...13\n",
            "waiting...14\n",
            "waiting...15\n",
            "waiting...16\n",
            "waiting...17\n",
            "waiting...18\n",
            "waiting...19\n",
            "waiting...20\n",
            "waiting...21\n",
            "waiting...22\n",
            "waiting...23\n",
            "waiting...24\n",
            "waiting...25\n",
            "waiting...26\n",
            "waiting...27\n",
            "waiting...28\n",
            "waiting...29\n",
            "waiting...30\n",
            "waiting...31\n",
            "waiting...32\n",
            "waiting...33\n",
            "waiting...34\n"
          ]
        }
      ]
    },
    {
      "cell_type": "code",
      "source": [
        "import requests"
      ],
      "metadata": {
        "id": "ujkNI-wds54a"
      },
      "execution_count": null,
      "outputs": []
    },
    {
      "cell_type": "markdown",
      "source": [
        "## Live Demonstration.\n",
        "Disable the cell under this one in order to run the in-class demonstration instead. If the bot crashes at any point (especially with a ConnectionError), try to use Runtime -> Restart Runtime and Run All (or similar). This *should* preserve the database, as it's saved automatically. If you Factory Reset Runtime, however, the database will be deleted."
      ],
      "metadata": {
        "id": "crbokSN8yqFs"
      }
    },
    {
      "cell_type": "code",
      "source": [
        "DISABLE_LIVE_DEMO = False #@param {\"type\": \"boolean\"}\n",
        "\n",
        "warning_message = \"\"\"\n",
        "Due to bugs with Google Colab (CoreNLP *REALLY* doesn't like being run here),\n",
        "if you stop this cell, it will cause the internal CoreNLP server to quit. To\n",
        "resolve this, if you would like to test this bot's data persistence, then\n",
        "please use \"Runtime\" -> \"Restart and run all\" to restart the bot. DO NOT just\n",
        "interrupt the execution or \"break\" a single cell, as that will likely cause a\n",
        "connection error. \n",
        "\"\"\"\n",
        "\n",
        "if not DISABLE_LIVE_DEMO:\n",
        "  print(\"Starting bot process.\")\n",
        "  print(warning_message.strip())\n",
        "\n",
        "  bot = GameBot()\n",
        "  try:\n",
        "    bot.loop()\n",
        "  except requests.exceptions.ConnectionError:\n",
        "    print(\"ConnectionError! Did you forget to use \\\"Restart and run all\\\" when\")\n",
        "    print(\"restarting this bot? Just interrupting (or \\\"quit\\\"ting and rerunning the cell) won't work!\")"
      ],
      "metadata": {
        "id": "f2KYgXMEr5eE",
        "colab": {
          "base_uri": "https://localhost:8080/"
        },
        "outputId": "22d9d3aa-eb52-4f3f-81ac-ad783854c6fa"
      },
      "execution_count": null,
      "outputs": [
        {
          "name": "stdout",
          "output_type": "stream",
          "text": [
            "Starting bot process.\n",
            "Due to bugs with Google Colab (CoreNLP *REALLY* doesn't like being run here),\n",
            "if you stop this cell, it will cause the internal CoreNLP server to quit. To\n",
            "resolve this, if you would like to test this bot's data persistence, then\n",
            "please use \"Runtime\" -> \"Restart and run all\" to restart the bot. DO NOT just\n",
            "interrupt the execution or \"break\" a single cell, as that will likely cause a\n",
            "connection error.\n",
            "No username has been selected. Please enter a valid one-word username.\n",
            "> tom\n",
            "Your name is tom. Is this correct?\n",
            "Y/n: y\n",
            "Username selected: Tom\n",
            "Type \"logout\" to log out.\n",
            "Enter your prompt for GameBot. Type \"quit\" to quit.\n",
            "> Who am I?\n",
            "1 responses matched your query:\n",
            "Tom is deep trouble\n",
            "Enter your prompt for GameBot. Type \"quit\" to quit.\n",
            "> Forget about me,\n",
            "I've removed everything related to tom.\n",
            "Enter your prompt for GameBot. Type \"quit\" to quit.\n",
            "> What am I?\n",
            "I'm afraid that I don't know much about that.\n",
            "Enter your prompt for GameBot. Type \"quit\" to quit.\n",
            "> I am a human.\n",
            "I'll remember that!\n",
            "Enter your prompt for GameBot. Type \"quit\" to quit.\n",
            "> What am I?\n",
            "1 responses matched your query:\n",
            "Tom is a human\n",
            "Enter your prompt for GameBot. Type \"quit\" to quit.\n",
            "> quit\n"
          ]
        }
      ]
    },
    {
      "cell_type": "markdown",
      "source": [
        "## In-class demonstration"
      ],
      "metadata": {
        "id": "l82cQnjay9UI"
      }
    },
    {
      "cell_type": "markdown",
      "source": [
        "Note: all interactions are typically performed through `bot.loop`, which will interact with the user automatically. We're just interacting using other methods in the Bot class for testing and presentation purposes."
      ],
      "metadata": {
        "id": "YI3R6ZOAXFki"
      }
    },
    {
      "cell_type": "code",
      "source": [
        "bot = GameBot()"
      ],
      "metadata": {
        "id": "yysHgXXBHbnc",
        "colab": {
          "base_uri": "https://localhost:8080/"
        },
        "outputId": "15c88b7d-17e3-40e6-cda7-b8731102c195"
      },
      "execution_count": null,
      "outputs": [
        {
          "output_type": "stream",
          "name": "stdout",
          "text": [
            "Welcome back Tom. Type \"logout\" to log out.\n"
          ]
        }
      ]
    },
    {
      "cell_type": "code",
      "source": [
        "bot.ensure_username()"
      ],
      "metadata": {
        "id": "hXJn9gsiIK70"
      },
      "execution_count": null,
      "outputs": []
    },
    {
      "cell_type": "markdown",
      "source": [
        "First-order facts"
      ],
      "metadata": {
        "id": "8WEhV-jAS4J8"
      }
    },
    {
      "cell_type": "code",
      "source": [
        "result = bot.process(\"When was Pokemon Pearl released?\")"
      ],
      "metadata": {
        "colab": {
          "base_uri": "https://localhost:8080/"
        },
        "id": "iVJ-bK6-QjYl",
        "outputId": "d6c5b545-39a6-4f2f-d8e0-f99643a7e8bc"
      },
      "execution_count": null,
      "outputs": [
        {
          "output_type": "stream",
          "name": "stdout",
          "text": [
            "1 responses matched your query:\n",
            "Pokémon Pearl was released on 2006-09-28\n"
          ]
        }
      ]
    },
    {
      "cell_type": "code",
      "source": [
        "result = bot.process(\"What is Minecraft's rating?\")"
      ],
      "metadata": {
        "colab": {
          "base_uri": "https://localhost:8080/"
        },
        "id": "_8bIMUJzTIz6",
        "outputId": "72e524cb-814e-48fc-b434-a19b781a0c2e"
      },
      "execution_count": null,
      "outputs": [
        {
          "output_type": "stream",
          "name": "stdout",
          "text": [
            "1 responses matched your query:\n",
            "Minecraft is rated 84.30574543205825\n"
          ]
        }
      ]
    },
    {
      "cell_type": "code",
      "source": [
        "# Note: it can have some issues with this if it's phrased differently, due to\n",
        "#       the way CoreNLP parses the sentence.\n",
        "result = bot.process(\"How is League of Legends rated?\")"
      ],
      "metadata": {
        "colab": {
          "base_uri": "https://localhost:8080/"
        },
        "id": "KhAQEYPeTOwt",
        "outputId": "c5d020e6-0ea7-4cf7-c848-2c146246c1c7"
      },
      "execution_count": null,
      "outputs": [
        {
          "output_type": "stream",
          "name": "stdout",
          "text": [
            "1 responses matched your query:\n",
            "League of Legends is rated 80.40361596830505\n"
          ]
        }
      ]
    },
    {
      "cell_type": "code",
      "source": [
        "result = bot.process(\"What franchises is Minecraft part of?\")"
      ],
      "metadata": {
        "colab": {
          "base_uri": "https://localhost:8080/"
        },
        "id": "W62IxDNFTcZH",
        "outputId": "e6e1d429-7d7e-4be0-c5db-968d441e5bd6"
      },
      "execution_count": null,
      "outputs": [
        {
          "output_type": "stream",
          "name": "stdout",
          "text": [
            "1 responses matched your query:\n",
            "Minecraft is part of the following franchises:\n",
            "Minecraft\n"
          ]
        }
      ]
    },
    {
      "cell_type": "code",
      "source": [
        "result = bot.process(\"What franchises is Pokemon Pearl part of?\")"
      ],
      "metadata": {
        "colab": {
          "base_uri": "https://localhost:8080/"
        },
        "id": "FiFJAaINTguX",
        "outputId": "79ae97e3-ab6d-4667-aef6-f0176e055623"
      },
      "execution_count": null,
      "outputs": [
        {
          "output_type": "stream",
          "name": "stdout",
          "text": [
            "1 responses matched your query:\n",
            "Pokémon Pearl is part of the following franchises:\n",
            "Pokémon\n"
          ]
        }
      ]
    },
    {
      "cell_type": "code",
      "source": [
        "result = bot.process(\"What franchises is LEGO Star Wars part of?\")"
      ],
      "metadata": {
        "colab": {
          "base_uri": "https://localhost:8080/"
        },
        "id": "HvN5kf5pTiUL",
        "outputId": "21b35cc9-92b5-430e-8ece-54c7b297dfce"
      },
      "execution_count": null,
      "outputs": [
        {
          "output_type": "stream",
          "name": "stdout",
          "text": [
            "1 responses matched your query:\n",
            "Lego Star Wars Ii: The Original Trilogy is part of the following franchises:\n",
            "Lego\n"
          ]
        }
      ]
    },
    {
      "cell_type": "code",
      "source": [
        "result = bot.process(\"What franchises is League of Legends in?\")"
      ],
      "metadata": {
        "colab": {
          "base_uri": "https://localhost:8080/"
        },
        "id": "t5XrLlJYToAw",
        "outputId": "c936e762-9a4c-4aa3-bf57-3f616fe48609"
      },
      "execution_count": null,
      "outputs": [
        {
          "output_type": "stream",
          "name": "stdout",
          "text": [
            "1 responses matched your query:\n",
            "League Of Legends is part of the following franchises:\n",
            "League Of Legends\n"
          ]
        }
      ]
    },
    {
      "cell_type": "code",
      "source": [
        "# Generic question (many Mario games); it will return everything it thinks might be helpful!\n",
        "result = bot.process(\"When was Mario released?\")"
      ],
      "metadata": {
        "colab": {
          "base_uri": "https://localhost:8080/"
        },
        "id": "BHSfIc0OTr4M",
        "outputId": "ce9b5fb5-0091-4610-bb46-82e1c24a6170"
      },
      "execution_count": null,
      "outputs": [
        {
          "output_type": "stream",
          "name": "stdout",
          "text": [
            "21 responses matched your query:\n",
            "Mario & Luigi: Paper Jam was released on 2015-12-03\n",
            "Mario & Sonic At The Olympic Games was released on 2007-11-06\n",
            "Mario & Sonic At The Olympic Winter Games was released on 2009-10-13\n",
            "Mario Kart 64 was released on 1996-12-14\n",
            "Mario Kart 8 was released on 2014-05-29\n",
            "Mario Kart Ds was released on 2005-11-05\n",
            "Mario + Rabbids Kingdom Battle was released on 2017-08-29\n",
            "Mario & Sonic At The London 2012 Olympic Games was released on 2011-11-15\n",
            "I don't know when New Super Mario Bros. Mii was released\n",
            "Paper Mario was released on 2000-08-11\n",
            "Super Mario 64 was released on 1996-06-23\n",
            "Super Mario Bros. was released on 1985-09-13\n",
            "Super Mario Bros. 3 was released on 1988-10-23\n",
            "Super Mario Bros.: The Lost Levels was released on 1986-06-03\n",
            "Super Mario Land was released on 1989-04-21\n",
            "Super Mario Land 2 : 6 Golden Coins was released on 1992-10-21\n",
            "Super Mario Sunshine was released on 2002-07-19\n",
            "Super Mario World was released on 1990-11-21\n",
            "Super Mario World 2: Yoshi's Island was released on 1995-08-05\n",
            "Undake30 Samegame Daisakusen Mario Version was released on 1995-01-16\n",
            "Wario Land: Super Mario Land 3 was released on 1994-01-21\n"
          ]
        }
      ]
    },
    {
      "cell_type": "markdown",
      "source": [
        "Partial Completion"
      ],
      "metadata": {
        "id": "OtI8-u-IT0iw"
      }
    },
    {
      "cell_type": "code",
      "source": [
        "result = bot.process(\"What is Minecr's rating?\")"
      ],
      "metadata": {
        "colab": {
          "base_uri": "https://localhost:8080/"
        },
        "id": "SMmf_muQTyYV",
        "outputId": "0f77f77c-4319-4a74-bbfa-b07ded4cee48"
      },
      "execution_count": null,
      "outputs": [
        {
          "output_type": "stream",
          "name": "stdout",
          "text": [
            "1 responses matched your query:\n",
            "Minecraft is rated 84.30574543205825\n"
          ]
        }
      ]
    },
    {
      "cell_type": "code",
      "source": [
        "# Mmm... Pokemon Pears\n",
        "# Keep in mind: the RESPONSE is NOT ASCII (the accent over the \"e\").\n",
        "#               We use fuzzy matching and special sqlite3 tables to achieve this.\n",
        "result = bot.process(\"When was Pokemon Pear released?\")"
      ],
      "metadata": {
        "colab": {
          "base_uri": "https://localhost:8080/"
        },
        "id": "3AXuyYr3T4sW",
        "outputId": "c6395616-35b0-44ab-854d-81fef39b1449"
      },
      "execution_count": null,
      "outputs": [
        {
          "output_type": "stream",
          "name": "stdout",
          "text": [
            "1 responses matched your query:\n",
            "Pokémon Pearl was released on 2006-09-28\n"
          ]
        }
      ]
    },
    {
      "cell_type": "markdown",
      "source": [
        "(Pokemon Pear, according to Google)\n",
        "\n",
        "![image.png](data:image/png;base64,iVBORw0KGgoAAAANSUhEUgAAAPoAAAD6CAYAAACI7Fo9AAAgAElEQVR4nOy9d5wc13Xn+723qrunJ+c8GOQcCYJgjmISKVKRkqxgS7Jk2Qq25bUs2c+762f7eb3P63WQ1+uVvU5vZa9WDkq0LFkUsyiKCSBBBCIQYQYYzGBy6u6qe98f91bq6QFAEiCAQf/waUyH6qrq6v7dc87vnHsulFFGGecNmYz7S5nK1ISTdr4D9Fyo83Au1IHLKOMywG0dqzt+Z8s9V7QUZvLLJofGh7Tm8QtxIvJCHLSMMi4DLG7savzttbes78lUZlh941qRrkjdB9RfiJMpE72MMs49eqsaKv9k892bt6cr0jiuQ3NvM9n66i6g6UKcUJnoZZRxbrGtuqHyK1e+fdvdizb3MnDgBHUddWRrK6hprqkBGi7ESZWJXkYZ5w5XVjdV/dmV77zq2tU3rhYj/cN4uQLVTVUIR+CmHQdIXYgTKxO9jDLeOCqAe6vqK/5yyz1btqy5aTVCaI7uPELX2k6clIMQgEYA4kKcoHshDlrGRQHz0yvjjUACa1IZ5+dblrS+b/NbN9cs2tiDlIJju4+jfEXnmk600rgpl8r6SskF4lyZ6JcvyiR/Y+gG3lvXWvuZVTesWrT25jWisqEKrTSFnMehZ19l+dXLcTMptFLWol+4S14mehllvDY0Au+qrMt+untd9/oNd2yQrUtbEQJDaCnp392Hm3FpXdqCVpbcAtzMBQnPgTLRyyjjbFELXF3XXvuL3au7blu2fVmqfWUHbsZFK4XWIIRgenSaV364n413bkA6Eq00GvOadC6cJFYmehllzA8XWCMlN9U0197Xvb77mlXXr6puXdqC4zoopdFKRVsLwf6n9lPfXkdTbzNKadA2RtIar+DBBQqZykQvo4wkssCVUnJDS2/L5o5VndfVttd2NC9qEi1LDMG11qg4wQEhJKcODzExNMHmezYDJiQXgBCgfMX06LQC/Df9E1EmehllgJnz0Q5sr6zLfqC2tfa2rtWddcuvWUFde50ht9IopfEKhuDCJsmEMG757NQsu77/Mou3LqayvhLt69g2AlXwmR6fllyg+SVlopdxOUIA1cByYEt1Q+XVFXXZG1t6WxYtu2pZtnVpC+nKDGhjib2Cbx3uKAWudSSyaeWz8zs7qW2vpWttF1ppRFE4rrVGK1226K8R5RxwGa8VAmgGrnBdeUNFTfaGxu6Gda3L2uq71nY5dW11ZOuyOCljvdHaclvYtJglucbG3eax0LD3sX1Mj8+w+Z7NVnCb+9N00y7V9dXlgpnXiDLJyzgTskAXsAzoyVRmNte1117d1N20tm1Za7ZpURONPY2ksmmbGrNW149ibyFAOgKtsMIb0S9Pg3AkfbuOcfTFo2x/73bcjMt8P02v4DMzNTMDTJzXTz0PLlWiX6woexoXBlmgFRNnL5WSTenKzObqhqq1dR31Lc29Ten69kbZvKiZmpZqpCMQUhjjbNNfwNxvLvDOBUgp0AJr7UE4glNHhtj9yMtsvHsDjV0NyYKYmBMgBMyMTTMxNDEMnDpvV+E0KBP93KJM8vMHgakpbwJaMPF1ezrj9rgZZ1Mqm1le01jT1NBZW93Q2eA0dDXS0NlAtjaLm3LxlcYvKJPyQiO0iBS1kJTm69Mxq21eEghhJHQhBVJKho8N8+L3drL2ltV0r+0yMbuI9qWj3YGAmYlZ/NnCbmDw/F+quSgTvYyLAQIzq6seqAQWA1UYS10tJe3pykxvVWP1ymx1RU+mKt3Y0F5fV9lQ6WZrK6lqqKK6sZLK+krSlemwUEX59qa05aAlqygRJut4zjtukHV431h2yUjfCC986wWWb19O7+beUJhLDBCxId+RgtzUDPnZwjNA/pxfvbNAmehlnG84mDnYXfZ+baYyUyUdnRbSbamsr1iZct3aitqKxnSFu0qjqwSiNVNdkXIcR2brs051Y7WoaqikrqOeTGUG6TpkKlMIKUNXGqwbro3lNk/ET8Mo4VppfD9Ii8V889j2Om6K7fNagBSCwUOD7H9qPyuvX0nPhm7rIdjNio4X7ENIwfTIFPlZb+ANX83XiTLRyziXqATqgA7gynQ2vayiJt2dyWbWVDVmF9U01Mj2Va0Vrb3NjuNKKRzh1DRUCzfjkqlKk8qmKPg+UhpyWF3biGG+ppD38T0dE8k0WPKqkPAiJpRrpCNQvjJxtRah657gpCW8lCJp7QVITGwugCM7jtK/u581t6ylrr3OCHRRlo3kyCLCP8rz6d97fAY4fE6v9mtAmehlvF4EuehW13WXVdZWXJ+ty26vaqzsbV3c3NLU01Bf01wt69tqqaqvpLI+S6oihZt2ETJGJk2YylJK4XieeVobFVz5yqjhxEglDfNMfbkRxoQ0xNcx8kW8Cx13EtmtcDt7fK1x3GKyC7Sv2PPYXgYODHDFfVdQ01KL8pWJ3YOPEDsO4RBlwgStfWbHZ0eBo2/skr9+lIlextkicMGXZDKpbXVtNZurW6rXZmuzi5oXNTb1buiubO5torK2goqaChzXCS2r1lHwq7VGezqZTQ64oY17rHTgVtuNrEUPZoIJYZ4LiA6G/AHZldJoXydiZa0xz6lot5E1FqFVj+Q3s8/cdJ6d/7KT2alZtr79Smqaqm3561wbHvn+Ue2rdAVTp6aZGJ7aDxx7Q9/AG0CZ6GWcCZXAjRU16fe2L23d3LW6o7d9ZVt925JmUddeS0VVhlQmhXAEhNZ0bi14ScS4HDwkULh1ZB2Vr/A9nWCViglgIvKSQQok1p0P9qqNKKeTXE7UwohAhLc7E1IwcWqSl777EumqDNvedRXpbMoKe6I4ijf+gg4q4MwL0jHhwNiJUWbGpp/gAuXQoUz0MuYiqCDrbuio29bS1XR394aO27pXd9Z0re2kprkS6cqYpbZutR8qWXNrv4qfEyX+xpgjtEALHbr1SkXWHEgKcAFRtUbFiWbfizbFLr6nQkMbHSjgddG+BRzb1c+RHUfoXtdN17ou4y3E3j9HuC8Kz0XsMw0eHPJmp/LPlLzabxLKRC8DzO+33YXlVU01d9W31tzds767d90NK+val7U6Vc1V4AiUUmHayqBI1Ar2ZF6aQ2Q7JIT3jQGViCT9YqFz0hJr+5xRzUW4jfYI4+zQXbc35ZuJKEpbS2yFtchVT446M2Oz7H9qP0NHhth410aae6PuzEIkx6tgsIur7UKIxISX/EyBk4eHJriAQhyUiX65oxJY5brygaaupnvXXL1i8erty6o6l7aJ6pZqZFrgo1BKGYsYk50MxBzjDckffkBqpRVKq8gaB6wUAsd1cIRDGMNbAvmeQnnBgCDCfLVfUFFM7luvQifz49paca+gEhNQgtlmOjZ6aG32derwKXY99CI1zbVc9a6rqKyvRHkqrKSLtg88B43WySughTZNJqRx/8cHJhg6fGoIOP56v6RzgTLRLz8IjKh2ayab/nBjV8PVV96+oXnDDWtEW28LjmuLTbSmUPDQUidc0aD0ZP5aXxHmp4NEltIq9AYi8xzM7zDxvBZGYVeeDknkFRSB7iUkCAVKYQYdBY4TKOSBdbe71hrlKQqFQLEz6bjgpCJx0Lzfyxc49tIxDj17kBXXrqBrnWnwGFS7KaWRwgxqSpswRdv3J8KBhOdi9j16fJTpkZkBYPzcfH2vD2WiXz6Q2IaGPas6H1h35Yp1SzYvynatbKehow6trejlBxKWRgoZuttSGMH67BochhlwAjLN3cTuxxJK2yo2rUAr8D3wC1FVmrHaxkr7BTMQqILZt5CRu6zCFJslswhicbONUlZ5t+c4dHiQPY/uobq5hi33baW+oz4w2dG5asKa+CBfHwhy8VgcrUEaAS7ASN8I+XzhGS6gEAdlol8uaAF+Olud+fCarStWvOfT9zpL1vZQ0AVy+Tx5r4DWdg51GLqK0M01tdsatI8f/rDPjvBCgEQiHIESvrGIOkiTWaupjMqe9BKMC2wIFijsGj/vh+6/1qDQaM/ktLHnH+4nVNIj8cxxJSCYGp7klSf3M3R4kMVblrB46xJTOquLvBWbABAUiYDF/9tjSJvjF9JI+qPHR/PKU4+9hu/qvKBM9IWNNHBHRTb1+eUbF1/7lvfe5Gy8bg1VNZVorZBaIoVESokQOiShSVNrtAicULOdKSH1zWvWpp0l3c2gIV1kEIdjjpf0EGxhSxBSS2P4g/hbWwU9iOMjpx2szxw9qe37LekCyz8+MM6hZw8xeHCQ2rY6rn7fNVTVV4VhRUTy6LxChyQmxsU/uZREnoUUSEcgXcn06BSj/cOHgR+f9Td2nlAm+sKEC2x1HPmRxWt73nfn+2+qu+LmDdQ2VKNUlOOWwiHtpPCVj6f9kFQaE4v6SoPQCEeZwQCBKyQ+4BOQ7ezIDhCVlAqrwyl8rU24HuwnZvEDAikreBn3WxjPIyhlDSxu6IFgCSlC6yqloDBb4OCPD3Lg6YPUtdWx6a2baehqQEhTFhtpENG5Rvl2kcixB15DsG8hkyQXAhxHMnxkmNGBsR3Aidf7RZ4rlIm+sCCBDunKjyxe0fnZa+/Z1nL1XVtp7WoyxPXnFrE4OKRJ4/s5lPbD1JRAmHx2EBtL35SaCoFj6IpCEaW3z0T4Ig/AuvTSEfjCiHVCG5FNOFjLLJESKGh8z743KIgRcdsaT2lFhBdSkp/Oc/Sloxx46gCpihRX3LeVpkXNsZJZu5ficMSS3HGlJTM2nLGKur0WcW0gOL7Zn6Zvd5+amch9Fyic6Ys73ygTfeGgHfhkY1vde6+5c+vyuz5ws9va0wJYgpfQwwAQkJIOOBlyfp6C9sNiFQH4QVGMtd6mVZKp8pY2qI/XoZ+e8JbsocKGSa9Jx6jcjkNB+hAo9GZ3Vjsw5ySFMF4AQapMRi58YH2lwC/4nNh9jF0PvYyX81h1wyq61nWTSqfMvlXUvDGy5PFBwpDbSUmkawYkKUX0mohFHVoj7YQZrYwnkpvKM3DgZD/w+Gv7Gs8PykS/9CGA66tqKn5r3dWrr7/7J26WK7csxU27yTLUedgn7C/blQ6CDII8OVVA2QJSgSEW2Oo0qRCxzodSGPU5OFKUbiqOdKPTFcK63JhGEEor4ylIaWrdY1sHY4IOyO0AvjX4scKUwLrmZ/IM7D/JoWcOkZvKsXhLL72be0lXZvBtTj3Iiwcz5IK8uAjSeHawQICTErgpmZiIE2YRgiIdm3pzXGHy/lIwfGyY4aPDLwCHTvvtvUkoE/3SRrubdj+xbF3Pz7zlPTd2XnnLRiprs0boUnH5mbiKlIAWgBQIra0bn8LXytppo2bL0OkWRTuKfvwSgbIFMIYAQYptro038b9vp49aBT2YIhoUtITydjxRrRFSIqRR5IMBQHk+M+OzHHvpGIOHBkFA9/ouutZ2k6nOhOk7YV3xUJwL1PHoapjDychqy9BFj9z04LRC0S+4jsG5ak3f7n41Oz7zLWD27L/O84cy0S9NuMA9HUvafu3m+6++4vp7tjlNHQ2AnexRitSnCaDNj12itY/SipR0kVqSVwUrjEmUMCq8FDJWWRbR39S12Eq5GFGTLr3G930TSmgMO7Sw0rqdpirNCigmPWV2LhzjQqeFcclnxnIMHxlh9PgoMiVJZVJIR1LVUEXX2k6qGqpw0q6Nwa1nIkGmTLwdjEdGYEvG5cKJyO04RlyLp+ew1l/FUnyauFcgGD0xxt7HXzlUKKjvv47v9rygTPRLD82uK39+3dWrPv3OT95dv3LTUtNpJbQmlCR10p1OBuzaWjbtYlJMCqQSpGUKR0jy2jPutGsELrPDyDVXWhl7rqNjBdJbGMYCnu+jPGUJHrP24Uw1EwqkHIcChvjCKuYTJ6cYenWYyeEpctN53IxL24oW6tpqSWXTOK4DghJz0kV4Um7KMSlCW/cel9l1uI2cY83DtJrAFPTEpsDGZ8QJLXBSDkd2HOXUkVPfAA68hu/1vKJM9EsHEtjuZpz/57p7r7r+gc/c4za3NUZVYHBaqx2aHhG7xb17S3Yn7YLWeL4CX6E8gasEMznfEBWN7/lodLiwgUwJ0tVp0hWpaMAJD2lOSikVdnqJhxNCB0NQ5OxLR5AS4HnGQ5kZm2V6dIba1mpalzeTqaoIB7fAkob7lLE6dnsOgQV30zK6ToGYFp+UIkC6RtwzcTwh0SEQBY0AGBXtiERJrfY8Du88MugV1N+d4Rt5U1Em+qWBNPDerpUdv33jO7f33PaO66ipqYrNIjsLhBVuFqH7atxZ3/PJzeQZPjnKqYFRTh4dYnpihunJWRxX4nuKisq0tZ6STHUaJ+NSXV9FZWM2FNJ0YMlt8Ulg2ZVWc/WBMB+tbXdVJySVlJJ0SlLwPGrbaqhprTbNJtChVdVhayhTTBNa8pi1DeruTVosRlqbOA8mpWhl3Xsn0hbily4YCIUQCMfWu/tByGE8gFTG5ejOExzfO/BD4MWz/3LOP8pEv/hRgeSXV2xc8vn3f/7+6rVbVoASxJsSng1CoxWkpKSgkC8w2DfIrqf20ndwwMTPSlFVm6W5u5GuZe3UNFSTrcmSyabDNlBCCLCTXZRQFPBQoUWOz3ETSKHxi8OJwJsQ9syERjoOjpRFqTdIuS4IzASbmLquMNGDcKIZdOG0ViVC0psBIHpdhH64DveltUa6IhThEh6HEAiHuaq7MMdGgxOL5/c/d6gwcWryH7lIRLgAZaJf3Gh00/KL2+7Y8qkHPn1PtmNRm22hVETyeRT1xCbSWLT8bIETR06w7/mDHHjpMFPj03QsbmXDtavpWtZGVUMlbsbF9320T1hJNyc7rsxBJdIcV5qbsKp7EBKYfLtdACEw6vH6VQHScXAdJyRh4lgCUo4R1rwoiRfWkgfhRxA/R6NMrFY/dLkJ69GFE5wLsTjeKuvxktYg1RZDILoFKUHHMV7RSP8YR3b07wW+N/83cWFQJvrFi2okv73t9s2f+KkvvFvWN9UZd7F4K5GMsxMcEVEfteETo+x84mX2Pn+A3HSe9sWtbLlxPcs3LqahpdaWgioKvofveyg7FTSoS4+r0+YwkeUTWpgCFCnDaaM+fkhoqQWu4yKFY+akh2WuGiklUjphfB6NWTHdQUAq5YLw8JVZfMHk4EnOHguXTCpOhcX3ZbyhoPgFIZCO+RvG5BCm3mRQMxAbTIPPKaWIPAQteO5bL3JsV/8PgP6z/I7fNJSJfnGiTTryP67euvyj7/nUvSHJ5yAmeoVPiUgZnx6f4dU9R9n5xG6mxqeprqvi2rduY8naHmrqq0Nym1y0IZ4jJCrMisdTTxGjQksYHFMKHEfa4xoLbjZR1mBqpDb5b6ll6NzHPGSiUSpM0iWOL4Qg5boI2xVWCazSXyREBrwLntaxMldf2wEJhLJuf1DOKkV4nChnHuXQw9fCbRKHxMt7HH25TytfPTf3i7rwKBP94oIArmntafoPV92++fa7P3SLaGptsCkpwmowHfqqsTcKgXQk+dk8/Yf6eXX3MQ7vOUqmMsOqK5axbEMvNQ3VpvLMuuNiTirOFMekpIuQ4GkfH2XT3Ha+WpKdSClwhYOSJpMetGwSNvkcTT61dfG28WMUiscTcPEzsWJZxH9DdscxRJcSJQPvwLxfSWUWb9AiEZ8bcT3qQiODOePSXLPAVQ8stBACKYLzj6x8XKFLSA5S0rfnGEOvDj0NXDS58zjKRL+IkM2m37np1nV/ePcHb+lavm4xruuYDiuBmiysvYtbE2l+lOMjk7z0w73sfuYVUmmX1VuXc+9Hb6euqcbux+SXfR2luJI16sEgYvaXSqVwXRdf+RSUj6/98D1x5VpKiUSZ4hpMHtxAEitXN7G8UGErZ6POx72RYo8lsO46DKHD85QCB+NFhCOGBpVS+GnPZCOCWCbmfujgva4Tlu4KEQsYiu7HRqMo9o+HSvYMc1M5fvh/np0aPj7+n7iAvdtPhzLRLxI4aeft17/n6j9420ff0tXa1mR6mQfakyMRVuAi+IFaoWj05BjPPvwiLz+9j8rqLFfdvplVVywjU5kxte5K4xdMvGzEqji5kyqe2a8GV4JjrFsKiatdY92VTziPnMjSSS1DES78PEIghRNOikEYzyBolCzsaKWtgp7UFxNOO2GdXYzUFJEfgY2nXYSMT4qJ2joZPUBGFrrkVSDO4pKIn4uQgv69Jzi84+h3uAhFuABlol8cuPeqt27547d+9Nbu1tZG8IvENeuqGwtkUjnDJ0Z58sFnePGpPbR3t3DPB2+lZ0UnbsoxteR5u+KJnamlwx3Gf7266Lm5OkDwPle4uI6DrxW+9o1nEGygwRWOaSSpo8kwUggkGt82tVDWZddopMa2qhJobVU1XUJsJHYhIt1rXhgPw7jjxXsLrXWRpZ53f/Htgu8i9pwAcjM5nvuXF0enhme+BEzNf2YXFmWiX1g4wDu23Lbuv7zzZ+/qbmtpsu6xRSx8NTG4YHJ0mh2P7+LJB5+lpq6Kt/3k7azcuBTHlbZ/uf01WosWt97a/h/E+ub1qCYtgVKMEwJHODhaGsIrL6z5lggjkIkgQo/Y4AIKJySqbyfLBNRzhDTdbUSkkIviU7BhQ9AFJ1DtsaGGseYxBgrs0sglPpcovf/4tokBpeS1MNdjzxP72ff4gW97nvdUia0uGpSJfmFx/8qtS//0fb94f3N3TxsoUZJ00pHMTMyw6+l9HNp1BC/ncfdP3MKKjUtwU2Y6qu9HFg9EOO2S4DGx37GIjyFFr2nMIOGUIH/wOpbwUuIpD6UUEmlicWnEOEVQHRfFwinp4uKYMCC0/OZ/gdEPkhGAuaO0wve8sEFjUglTKCGQjsaRNhdfHFsTe1yKzPGQILg+pax57LSkFAwdHebxv/1R3/ipyd/nIiuQKUaZ6BcO97R0N/7BA5+5t7l3aacpwaToN2xnie199gCP/PMPaWpr4Kb7rqaprcHE6rG2UBBTsQXRFMyAuDr61erYrziZYraquq9N6WhRoUixZRNC4LquqZIDXFxyOmeSaqW0NQylXeEk6uAhOJRhmLKfW1i3PijeKe6hHn5qbUtsHXAdhzm5ryKXu9TplRwQ5tEEBOAVfJ7838/Qv/f414AXSpzYRYUy0S8Mrq2uy/7hvR95S8/aK1dY4UiEkywg+DF5fO//PM7zj77Ene+7kc3XrwvTY3NJp8MCECExzBHROmSECx2I6FgC4rpU+LvWIFQJohdZSU10HDBxiKtcCsqLBLTw/JJKtSNkOO89eCVMbWmNtmT3tEL7JQ4eP2nLRuUrfGE61iQ2LyHczSMGJF8uJWdgBrhdD+/lhe/u6lOK/w8SvTIuSpSJ/uZjjXD4g+vu3bbs1ndfa9LKloTBb15IydjIJN/6639j7NQ4H/6ld9G9rD2kjogtRhD9+IwAFeR+A5c0IKOQwlh2X9lFAMWc339JUhS/HkcJAqWkG6ryBAUzRXG3GY9EGHfHRbhkbZwOB8HocNreiQ0kwbx2jIcTNLIseY4lzj0kdnwAK/WZtQmjTh4a4gd/+bg3Mzbze8AFXVPtbFEm+puLRscV//nK2zZtu++n7yCVMv3LjBU11lZKycGXj/DQPzxO76pu3vZTt1NTX4Wv7NJAjjzjQebEsWB+zdL0izG5u5gXIUJtCdCRR3BWB0o+FkjSMkXepuuFjuXM7cgTdJCVNlRQRLSN5rCb4htUjPwiEA7nN6CvoSft3I9R7KYXuf9CCGbGZ3jozx9j8NDw3wN/+ZoPdoFQJvqbBwH89IbrVt/94S+8m+a2xnCKJa5A+MbavvjUbh795o+44Z7tbLx2tUlLKWUnW4h4JercvZ/uNx68JoWx/p6xllFO2dIriO3PRPTTKNKOlGREGuHnKeDZWNsKa8SKf2LLMkW7DZz+5Dz7eG6gdKxuNgyaRQanWPKSlPJcQlejxH27MyFg5/de5uVH9+1QSv0GMDbPiVx0KBP9zcMV3Ss7PvPeX7jPaW5vSMwll45kZGiUb//V95kcneLen7yN3pXddiCwTQudooC6GKcj+VyVD5ESpm481o0lJLkj54pRZzpObLtA2Es7aVDgKR/AVNcRZQNM0axZPCJImYWLOyiN9gkbU4SHnm+Qw2gK0tbblxLQEpa75D5Ivk9Hf4UUjA9N8tw3d44Vct5/BPbPcyUuSpSJ/uagPVtd8fm7P3hz95JVi6y4ZCClZLDvFF/70reoqKrg/Z97O3WNNfieb1xoRDjpYl5rfibMRw7HNlr0bSossOThD1yHZWtBfUzC17f7CTqmCpE8R4EgLdMIPFCFsJhGa2wBjV2GWSs85c9ZuUWoyGVPnHcY2ycZKwTRbDMC2SMKCaId2HCgFLlLDALBnPVnv7lDnzh48k+Bb5W4ohc1ykR/EyAlv3jlrRsfuPaurYnUjpSS4YERvvHl79Kzsos73n8j6UzKNEd0k7H4vNYswByrfYbt7TYCYfq4B73QAk9DhIwqKpmNCYH2jg56pAcDRczzMGRPIcGsCOODUj5+fCFELYzljqf97AHMyi6B9Y9r9JpggkywMqtWGt/3TJupcP8lFDYrSEgbxsQHhznXFDOAvfTQHp762rMv52e9PwO8M1zZiw5lop9/rF+0uufd93/sDiqrs2H9upCCsVPjfP3Pv8u22zez4drVoJnbOaZULHw2JD4LFxsN2ldhW6a575/rNifnecfUc0sq0/WFaCUVazhd4ZImhUDgITErr+vwMK4w5bVBMU3iI2psS6iYNY7kvdgJCRMS+X7y85eK6YU2RUZShTXwUhSFLJillfr3DfD9v3hscnxo8neBV+e5shc1LlWiv14n9s1GpqIy85nbH7hhac+KzijNZItdnvj2j+nobWXDNasjd7QYRcpv4rlS250J8e3Cjqmlpo2KZOwOcd7b5yMBL56/14nRIBozpBS40kUicQiaUAT7Mva6oArklWk7rWx6zvjgUW95YaU5bb2BuQezWxWPmSK2ibazAJVG2TbXpjmGjD6ngqO7+/nenwQjlcYAACAASURBVD3iDR4c/BLwv8/qGl+EuFSJfimQHOBdG65d9YGr77zCNkDQQc6JJx58hlf3HOOnvvgAwNz2UMU4F5+4WGCLrT1mnd/YYXRUKRc+JmnSw9ZLMXd9XjXeCGXK8RHa1KcLHCO8oezxzeQZJUBhyoEVGh9tZ8GFuQEE0kyGAey0uCgz4QeKfTyEmHtagUcSlM3HBzIpJQefP8w//Na3/LET419Wiv8E5M94jS9SXKpEvxRQ29zR8PF7PnRbVU1dpW3NZNYue/ahnbz45B7u//idVNZUlG70+FpibmHD1bBiLiaYxckZ9whUVIwScX/uQQIrL6QRBc+YdjvNgORIQ2whFNojbP0ULOYIRkzLOK6ZAw9hxZ9QZhgy1XTBRwuawcmoMwwCJc2ijVqpsI9cvPVV8nTNIOE4Mux/Jx3JcN8oD/35Y5PDfaP/DfgdLqFUWimUiX7+sGrtthXrlq3vNf3MMT+mA7uO8Nxju3jHz9xF55K2uSucRuFnEknRuMg0GZLroG96fAOrigtrdaOXdWLTwL2eUy9nWzEL9wzpvbOAQOIIByQ4KdvrXYFUcW3CeBIZx8XTAk8qHOPoo7UKJ8sEEboKetrFEKz5rm0NggoWbSwOfexAKJ2obFZKydFd/fzbnz08fGjn0V8D/oKLYDXUN4oy0c8PsqmU/IXVW5a3pNwU2lfIlEPfgeM8+DcPcdeHbqZjSRu+is1kmY/gAc4kysWMtoi/LooIGh4vWkuluBFD6CALIit+OpK/BsVECif2gGjlFB0o39EncHBAFcI8fFA0E5yvsk0iIdkpJ66WO45jPQmzoGM0xdUcV0qB47gEi02++sJRvv373+0/tufEF+HSqGM/G5SJfn5wdX1b/b3L1y8JC1LyM3m+/7Un2HLTelZsXmpmnRVZ5dPiTAKcEAhXmsko8ees1dLxkQBsYYyAIJ4V8QEiOTHmjHiNGQEpHONmK6OyI0yZvtmVbURhrbYkWqNda9NuMt6kUSLwk8n7uecmgrXYY5FNKO2Zz4sUHHruCN/4z/86MHBw8FPAP5/5g186KBP9/GDbsjW9te2LWlBK4ziS3c++AhquumNL0o08lxBizjzyxGFifNBgCmZs88fI+lPaA5j3mMzxKubdJsFHietI28TCRymFpxTaV6EaH5yKWXsc20teo4VGOJJY5f7cJhGlxfjoeTuzD8yacHsf3c/3/8fjgwMHB38B+MZpPvEliTLRzz0q0xnntnVXrSKVTqGUIjebZ8eTu9l++xYyFanIZYcwN30m0f2coPgYAjNJRtkGjHHlvFQqrxTp9Tzbn24fwXPaED4lBL5QoDy8UDzTkSUOhDYhcEzL1jANptFGu9fF7alPc84i+qt8zRNfeZonvvJ0bnJk+o+Ar7JA3PU4ykQ/91jd0NywZc3WFTYGlDz/2Et4BY8la3tMo0YZIxRzSZ4g/pnU91KP4fRWOPY+7ceEqkC0m09ZL7XPUpsG5xSIg/EUnJ77Ho1AakFKuDiO7SgTdKGRkBaAAj+W7w/i9OCUFDYFF//8pbyNQLwTMD0+yw///hme+tpzJ6bHZn4X+DMWIMmhTPTzgQ2LVnc2tXQ0AjA2PMGLP9zDHe+7Cddx0Z46fQwcszaJvuuxv0YhN79kEfsha03i8dydxkSrWIotzCPbBQ4QZ6ivn89ax58LK+6izxKKfoH7LqIHWpiNzGWROFjV3NEgXYQvyCnPznWfe1DTdFolXfS4gdfR0lJaaYaPjfD0P74w89w3dnwvn/N+F3iKBUpyKBP9nMNx5FVrr1ghM5VmrvmzD+9k6dpFLFrRGU1LtekwIXU0WwxLR01YA661xlcKX5lJH77yUSh8rVBCIR2J65o+aVZIJyS1xnZhNf3dpDB54rB5o9ZR//P4DDFt/zMTxk3MH69dF1Eq7nReQ1DGHrekwnaOMacZKd/GR7cRtx14BMYbcmzNvxQOwpulYK9BkGILB5E5J2AvdSzFhoaTB4d45UeHRvc/dejRIzv7/tr3/e8Ck2f7/V6qKBP93KKztqnmxhWbloIWjAyNM9h/ins+dCsmPxy1XdZ2pobWGqmVXdc7+mEWlMesl2fGz5HXBTytTKmmb9Ynz03nmDg1QW4qT31bPdIRTI3OoHyFm3aoqK4gk02RrcmSSrs4joMrHRykcZG1RPimf5uDGQiigcKei2/IGeTQ584YK+3ii+IRQBDNcAOSimAMwdJIOlr1VIcvOVSmsuT8fGzAszPghKSg/ZiibnevNZ7vITQUpj32PXkw//Q/PfetvpeP/bHn8RQXeUPHc4ky0c8t1jV3NCxr7WpCA8/8YCeLVnRRXV+FjjVxjKxv1F1GeT453yPn58mpPDldIOcVmB6fYWxgnKEjw5w8NMT0+EwhN5kbnxqZOj46MDaZm8rnK+srXelIOTM+42tfCenIbKoyk81UuLUNnfVV2bpsNltTkepZ1yk6VrZR11prJp744GiHNCnSjktKuqREipR0cGwKTCuN8AEXBPFcd/yvgaklt+S3U2wJHIJQ6AssdvFwYExwsNxUKa9BIsnIFHkESisEioLWttd8zOsOLLn28WY8ju89yTPf2DF78McH/3hiZOY3gYnX/tVe2igT/dziuiWrerI19VWMDo5yZN8x3vHxO0NlLTl5xNzxhWJW55koTDFTyDE7nWNsaJKjL/bRv/c4J/YPTo2eGDs2Oz7zaiHvvaAUPwYOAn0Yi+RNjc4ETc0DWqRhMg3U9e0daACagcUVVZnN9Z1129qWNC9tW9Fa3b68hcbOBmpbanBxkb5AaklauKRlmgonRdpJ4WJaOwdWOZzpVuy+h+6yTYxbn1rZ1tMi8GSIC5Ai+f4zwJEuGSHIK4+C5xmPRxUIC3/swDI7k+foi3088/Uds0d2HvvR6MDEXwD/yEW8yML5RJno5w5Vjuvc0L2sE+k4PP39F2jraaaxtcG2ZDY/aGPczGqgOfJMqmkmZ6fpPzjAKz88yNEdx6ZP9Y8eGD0xsSc/k38G03xwDzAM5HhtGfgT8QezUznnxCsnG0+8cnKd/LeXt2TrKjfXNFVvXbylZ2nP2s5sXVstDR31VDZU4ugc0hOkpEPaSZFRabLpDCmZwhGxZY3iPI3rZCJaYDFYSvk1ZRBt7B2sNAPGWSjgk9MFZr0cU/6M7QVvwqDJkSnQmsM7+3jhOy95x3b3PzM2MPFHwINc4rXqbxRlop87LKtvrF67YuNiRofGGR4Y47b3XB/G5MEPXgvFrC4wUZhmbHKcAzsP6x3/+rI+/ELf0fGT4w/6vvo6pk/4Kc59gwMfGAQeVoqHp0amnamR6ZYT+09ufa5ix9ZMZcWd9Z01m1sXt1QuvbKX5VcvJl2ZJicKTPmzpGZd0jJlbo6LG4h8QiKJJpUkgut5q2jmgyW1Mu2bzcqvmrwqMFmYZlrN4OEjrBCJgrGT4zzzjR28/MheLYQ8NT449vjkyMz/waxsOnCOrt0ljdf6LZQxPz6x6bo1//1z//XjQvmK6fFZGlvronhcQF57jObGGR4f4/j+E+x5fP/srof3ffVU3+h3geeAfRgyXig0AlcD19Y2Vy9btKFrRWN3fW/Hqo6GzpVtTlVdlnRlmnQmFTZhFDoqapHCCH3xji1BuSoUTZeJP4hpc0qblVmVTc/5SpFXHp72bPmr2XZyZJKju45z+IWj+siOYyMDrw495+X8f8MsdLgbmDk/l+jSRNminyNIV65bf/VqUVGTRfuKbE3WKOpWrZ4sTDM4MczwyWF2PfwKz3xjR//IwOh/8XLqvwPTF/r8LYYxbu6D40OT7ks/2FsL9FTWVV7Z1Fl3Y6Y6s6GuraazsbuxKVtd4bavaKWxq56K6goc16TChJRhgweDefrHJx6aJ4QwLZ597eMVCqAFQQMJL+8xMTjJ2MA4r+44yqs7jkz37x3Y580WHlSKrwO7uEzj77NBmejnBh3N7Y03brp2DRALU6Ug7xcYnRlncOQU/ftO8MK/7srve/LgdyZGpn8HeJrXFnO/mfAwxB+eHpveMT02/VdAPdABrJaS1XUttevqOxvaq+orlknXaahrrXGrm6vc+rY6p66lRqSzaRNjS0hXpElnU2Z98pSDtOlEERsVZqdytjuuJp8vkJ/IMzOeUydfHfL69hzP9+0+PjIzPnNwZjz3mFLqYeBFTChysV7DiwZlop8bXL96w9J1q1cuZVZFU5cnC9OcGBlk5OQIrzx1iGcffGnfif2Dv+n7/je59MQhH6MbnAJeUgpGBsadkYHxCgz5W4AKoL6iuqIlW5upy2RTbV7BbxWISjfj1lTWZJVwRdp1nXohRYXv+Vnpurl0RWpIOOTGTox7WuuRdDZzQsD4xOjUSGHCPzkyMDTi+4xhxMWTXAYFLucaC4HoZ6jROu9wpSPv3rh1daqqspLZWcPfGX+W/qEBBo4M8vIP9vL8d156YnRw8nMYK75Q4GPc5f3E+pzPTs4yOxnWokh7CyaiO5gBIQVkMJ7DhP2r7N8LqVMsSCwEol8oBANMS0NL3fa1W1aYKi00M94M/acGGDh8kqf/8QVeemTPN2Ym8z/PJdpB9A1CERE4wMWiSVw2WAhEv9Dx2YbVG5b2Ll7RQ87LM56f5PjgAKcGRtj92H52PrT7odxM4bPA4Qt8nmVcxjjzin1lzAcNiFTGecf2GzdXZasyDOfGOXqyn6HjpxjtH2PvDw8ey80UfoUyycu4wCgT/Y2huaOzbfvmq9Yx7c1ybPg4owOj+Dmf4/tPMvjq0Fe4RJbVLWNhYyG47hcS1125ff3qxYu72TN2kJPHhyhMe0hHMj05q/M578Wi7QVGhKrC1ocAafvaJJfRbKoy3lyUif76kWltb/rI3e+4JTvFDIf6jpKbyJnZXmlJY0e9yFan3z0zmQdwslWZ1ubWht6unpYe39OdCK0FwtdaVYAQWqn+EyeG9o0Mjx+encr1+T4HgWOYdNKCbYhQxpuDMtFfPzZff/OVVy3b0MtzfS8zNjRuFikU4GYcWpc1U9tSe393d+Xbbr5zG6vW9Mqexe20tjfhuo6d220LRoSkUPA2nTx+6u6B48OMj0/6A8eHxw/sPdx3YO+R5w8fPP5ULlf4DnCES3CBvzIuPMpEf30QdQ0199989zXtQ/4ox44fx8uZ1K+Tdjh5+BQ7v7Ob++67iff95F2yraMxXFDAdEaJTf4IbgLaOlrYaIq5HaV0w/TUbEPfkRPrdzy7+yeefPiFw7tfOvB0/9Gh7/m+/ygmVVcmfRlnhfKklteHa7dsX/u1L/7BpzoOzBzl8L5j+AXT2fXwjmOMvDLCXXddxzvffyupTMoufQQRsSnxt0SWUICUplp8anKaA68c5YUf7/affnLXseef2fvIyODo/wSeZAGsJFLG+YVz5k3KKEIqVZH6jds/cOP1jZsaGRg+hZ9XzE7l2PWDfaxq7eGzv/QBtt+4Eek4BGt3l77FUdzBIViBxLQyTqVd2jub2LR1lbzxtq31i5d2bDrRP3TfqVNjGeWrnZRna5VxGpSJ/tpx89ptK379rT9za3aCKXAF0xOzPPuPO7jxii187OfeRUNzHcpTiHC6ZpLcyY7HxV1NKfHYPmtd/3TaZeWaXq65cXO2ubn2+pHh8auHTo5OYfL1ZetexhyUif7akK6qq/zinR+/+drWNc3MFHKcPDjEs199gXfdcxvv+8m7yWQypvNquNZ2vFTBTscMya04c2Hf/KSvqa1iy7bVcsu21UvcdOptfUcH1s9M544Cx89ix2VcRigT/eyRAn6mY1Xrz29//9a0cjUDBwZ57MtP8ZPvuY+3v+c2Q2zbUSZoqGpapxlia3zbyllFLZXPeCMaD4IWynaxQJRZuqi5tYGrr12fWrS4fe2pwdF7Tp44VaGUfplyTXkZFmWinx2ywOel5Nc337mhZuU1S5mdyPHEX/2I99xzO+9+7122QYJdGkhr0/U16HcWGPDg9eK9x4gdrvYZv0U7CPuZR+3STXtoKQTLV/aw/foN1RXZipv6jp5cMjkx/RQw/iZdozIuYpSJfmY0di9q/3frNiz7QkH5VVvfvom6tjqe+tqzXLFkJR/9+LvMUsDKWGqtVEjYRKPxqMchpeLykn62ffJ0a7MFx1G2kWJ1dSVbt68RTS11a/uPDW4aOjm6B+h/g9egjEscZaLPDxe47errN/7h577wkQ9dd/3W9HN7dnPlOzZz8tAQ+Vem+cxnP0B1ZVWYPhNahO2Qgp7tBsFK5JEtDtboDifTCxLbl2jAFCKw6on12TA7ClY+WbFmkVi7YenS8bHJtxw7fKLf9/URIP+Gr0oZlyTKRC+NTGVNxYff+Z47/vSXf/Vj66+5bot8/JFnOTp9kmVXLeHFB1/mQ+++h9WrlqF8SKbKzNJHQEjsgOKRGMfc7JookXArWnpE62iAOCM0tHY0ccW2NQ0jI5P3vLLvSLtW+nHK9fSXJcpEn4umTDb1G/e//bZf/7X/8Mm6zu5WlFL867cfZ7omx+TwJP6hPB/68P24jkspp1vYjqjmFdPTXQtNfNXExNJEwROasDQ2sWpRjPDJ1FwR7IvBNlprqqor2XzlqtSpwdEtB185VqWUepyyZb/sUCZ6EuvaOpq+/ImffeC9n/6FD2Rq62pQvll985/+4d8Ymh5jaNcpPvXx97N4SVeRddVz3G8ZLGsU+2eWLCm1+EHc5sdeLrLq8Tq6OYSPVj0KH2utqajMsHXbGul5/hX79hyu8gr+I5TLZy8rlIkeoadnUdt/+/yvfuz2D/7U22SmIhPGwFJKdu86wL989WFu2H4F7/vAPdFKJcUW3fI4KI8JFjdQ2o+sNdpmzsziBKXd8dOUxnIaqx68GAT/9m9FNsOGLSucoRMjm3fvOtSH6SNfxmWCMtENNq/fuOJPvvjrn3jLXffcIIK4Olx4QMDSZd0sXtTFux64k7q6mtgKLPG/MSSK4cyigAG5E2uUC53YWAgRG0SKdzRfGa0o2tbeF8nnMhVpFi/rSu3fe+SK/mODO4FDr+dilXHpoUx0uH3F6kV/9e//75/bdvOtV4lwMYGQ7IaYVdVVbNi0kqqq7BksMMn4GrP6iK/9cL/hO4KViwIvILaL8HHstdI3UfQ3uh+4FvF919ZXs2hxR+2B/UevOXli+Fng6Bu/hGVc7LjciX7NmnVL/se//81Pr7z2hivsYogGEd0jF9q8XpT/1kUPgtVCY9spZdY2nztA6Ni89BL7DHNvcyL3pGue3GUCovh1NE3NdTTU1za9+MK+tZMTM49iFmooYwHjcib6hjUbl3z5//qNT66/7oataKUSvBEYr1rHraz9G7neJYpeYjvROih2USgUzHG1zRv0HDLGT4KkeZ9zRBEbEIpRelDSQEtLPdlspmf3S4dWzM7kvkd5OaMFjcuV6PXdve3/9bOf+8Ctt99x3ZyyUmAucQIyzaOO6/iDaDOEwFrzuDegYxY/rgdEYXUg6MV2GRI/cumTG8Vd+qSin/woUoJSmp7edvL5fM/uFw884/t6d6kLVcbCwOVIdJFOu7/w4Y/e97Mf/ND9UsjoEsyx2JBQyU8LK6jPdZVB4dtqubBinZD0IunmJ06UJNmL7xcXxiXPP5aSKxoAhDB1+crz6exudffvO9p7vG/ou1x6y0SVcZa4HIm+fft1G3/vs5/7UH1DQz1zlDNr3SUyzIETvVSSyEAUOsf+BtG6H6TWEgci9jgqoinW0+c5TGL7qIQ+OSAFNfIJkS/2YiHvUZFNIxDdO1/YP5qbzT86z2HLuMRxufV1b1q8tPPXfvbT7+tetKgTZad5auuSBy68FA5Zt4qMzAKipDUvtvpRPB57XoQvxzedx36Xfm2+5xLnEc58s4cNrLeOEbtoR1JKHMdMq732xk1cedXaTwE3z3NqZVziuJyILtJp95Nve8ctb7362k34voqaNap4xCyocqrJOlW4Iuqdmch966SbHFnU+Q4dZ9npqF7ibcy17tGxk/uKUmuxIL/I3w9el1KQSrtIKaiqzvLWt1/X2tnV/DNA5dmdXBmXEi4noq/ddMWqn377e251kFiSWwKL0CjiCJeMm8WRTqJwJa57zfWZkznvOObG30nFndhAUcpdL/Vc6cktIhTnwhKcGKmlI3FcB+lIc9+RhuiORCnN6jWLufktW+93HN5f4pBlXOK4XIiebmiq/dQDH7xrcWd3q7XmpTeUwkFa5hdUIUkoEQnvwQCRcI2Du6fztYteiAp0SmxeVOwSEbx4+IhOJMrIBSSXCCkRssjCa20GAGmeEEJw3U1bKjq7234RWD7fGZdxaeJyIfptN9669f03vWWbqS0vcnfj0FpRUB45P0dO5U6708BtL05nzRHsRPhfbDMVqu+lBLbAEkflc8F+zXPSktjcxJybaVcXjRA66HSjCAVHIcwgoLXG9xWd3S3cdNvWdW5Kfppyz/8FhcuB6JmuRW0fefsDt9ZXV1eitV0+oYSbDYZ+nsoz40+jtBdtUyx0WZRMySWgQ186iqjnWvHgcUDw0IrH9QP7mmPd7wSxw9HG3nSgDMazBjrhQwhJ4lhSCG6+bSu9izveB2yZ7xOVcenhciD6xquuXnvz+k3LUX5Q4jqX4cGPXWmfWX+GvMpFKrbdJiHIkbTk86bdgjeEuW0ViWWIRBwtHBla4SA8EEIgbIwtpIisNPEwQs8z0ojEvbi3kBTmJI5jtm1qqmPb9nVt0uU9p/tElxBO+81cLljwRK9vrL3n2luuaKnIViQsI8zlhqliU+RVHo0KU1RxgSuhsp8FImJpc7PuuBACJEhHIF2JdB0TT9tBICC1CKx1ybxb0EwyInxE+qL0gP2Awf7M8Y13EHgDSmsKns+6DUtpaqx/F7DqNXzUixWv5etasFjoRG/pXdp57/rNy6MebcKk0IonkgRIpM2Ka1xi4tjpLTjhsQhILrWxzDJSwaXjIKSLEI49Zol8WmC20cQYTWK6K8ntw7ckzj1S5BMioIwaYyhfMTuTo7O7he3Xrl8qJe8486dc0Fgw3sBCJ/rWlWt61zS31EdilA7mo8WJQ8n0dpExPC2sI550xYUVxZyA3IFQJiK3Wym076M8hVZmhpy2XW20irWPDk5V2WYVqshyW1EvEOEilT2WUy+GJrTmWmnys3n8gofjSDZtXkltXfW9QP1rvuoLBwvGG1jQRK+tr95+5fa1lem0S5CCEiUZG1i4yOrPR4xihJsGpBaRMGaWbPCivVvXWimFUj7a99C+mb4qBHieh+/5SBG41MR4rJNeiRDJm5TgFLsaMYLHBrKEkbfbF/Ies7N5s5nSdPW0smhx51oWhvt+2WMhp1AyvUvar1izYQlKazOizeOuB4h6yhAXyyPBTc59s6Boo9jefF1AoUK12zyrDclti2gpBYMDIzz6/ed4+ocvIoRg0eIOepd0sHbDUhYv7Yzr5FE4UHTIouTA3Cfig0ZsGw0oX5HLRTUDGqisqmDL1pUNe3YdvD+f955mAVm3yxEL2aL3di9q29za1hiVigoAydye6UGDiagYJbSacfGKuHJdbPk1OlgBFYWnC/ha2fRYUGqrUL6P9qNFHh7/wfP88s/9Pn/xJ1+nwqnnxmtuo7djFS8+3cfv/cb/4jvffAINJVX3BPXiJA4HHhGdMPFBLslZr+CZhSfiu9OaTZtX0LO4/YPAhjNc6/l8oDIuEixki75+0eLOjopsOpwiKjCFJoSkLXJtrayeMJin9QCCJZYi119ogWkzEU2SMUutmW2VNoSSUvLcj17mr/70m9x37/287e77WLZsBVVVVQAUCnle2LGT3/v932N2tsB977kJx5GnFeBKn2o8HWcHu7DThTHpSuu5IY02nWiuvGpNz4EDx7bhs3P+K1HGxY4Fa9GrarIrlq7oToV5aZsuE0LGYttoeyEJq82iiSHz719rha88fG1uSvsorShoD8/eN9slBwOBcdfHRif5+lcf4Zc+9zm++PlfZePGLWQrKlG+QimN46S4ats2fv///X1O9RX4t28/Zc5zboRQ4u58Jx4bwWKj2Rz/Jmafly3vprW1sW7+KxEeuuzaX8RYsESvb6xZ1LWoBSEETkzxlkIkHHUgSjuFP9e5v9moOMXk2j1dsA0lVGi5lVah+44V3cKUmSW+kAJfKf7hK99j3cot3H/PO0FLlO9TnPdWStPT08MXP/8Fdj3Xx4P/9HgUdgiKHOZ4ai6mxuviW7B5+GFCkVDE3h5kALIVGVxHrKPsml/SWKhEd5ua6tqbmusRQqCUZmhwlNlcDillLIsc/bCjrstJJzi+nbAbK+3NCY+VVnY1FiLrLayAZwtlhBQ4KYdnf7SbXc8f4Sc/9FM4TmpOrC2FwPM8+vr62Lt3L7XVTXzkg5/g63//GAdeOYp0RJLPFJ1MTKk3z+nkdkG9u44+XbJ+IMoS1DdU09zasA1oO+urX8ZFh4Uaozv19bU1lVUVCCH4l68/wV/+6T+zbuNyfvXXP0lzcz3BYoQJdzZ2p5jIUSifZJYO3iLiK6gSjiAaOwBoq7CfGOFvv/wtPvyBD7Ns6VJ8zyfuXggpeWnXLr70pS+xd8cuJqYmue6Wm/iVX/ll7r37fn7wr8+wbGVPzFOI/9GRryJMwwwRU/tF/NRj1XFCgBbBss/xbaCyKktzU/0iYClw4iyvfxkXGRaqRRcV2YybTrvse/lV/unvHuajH/44tZkOvvp3D+LpglXFjftdyikVRX/D58McNmENenAVA83e0Fvh49nur2ZHQgoe+d4zCK+Cu99yL6HQbUcS6Tg8//zzfPKTP8uhZ15iY1MPqzItPP8vj/KJj3yc7u5Ojr86yY5n9yGlJGotHXgcxnsIrHHguZvDWxFSCtMdUojQ0uvYaRDuy9yXUtDe0VTnpuUNr/fLKOPCY+ESvTItldJ85S8f5IZrbuTffe4X+Z3f/i1GBz0OHjwKEkNG7eHrWwf5ygAAIABJREFUAlqruTsp/hu3go5EC6uw6yBWV5Zo1pIX7WtyYobHHnqed73jHbS1ttvtg9cFE+Pj/PEf/BEr69v5lS98gff+7MdYu2k9i+tb8Y8M8+Uv/RmOyPD1rz6MV/CjDFqcmYj4XZOSCybLBCpbvL43Fr9Hefrkddi4eQVt7c33A61v5Esp48JhoRI9lUmnMocPHWegb5yPfeyjOFLS2dnBO+97Nz/+4a6QiAqN0j4eRjk3iDFIWAsoBUpqlAQlwA9Ud+WFefpg7knQPDosicVY65d3HKAqW8d7H3i3datFwnr+1d/8Dft27OL9H/wgt7zrPq69506uestNVFZX01xVR3bU4+DeV9i14yAH9x+zTSNKpbCjGW9SSgJp3UQTseFHWMc+EOPCk4lGCg00NdexqLd9I7D+nH5Llw4ueSFy4RI9m6740eM7uePWu1i1YlWogG/ZspmJEZ/xyUlbsmreoFH4wsMXHlookKCFRknzvCeiVBpaIcJy1JgVDAtTYn3bzBMopfnREy+yZdMWmppaCPq8CyFwHYf9+/fzv/7n33Ddxq1ccdP1pNJp3JTL+mu20dnbhQaaszWkhmc5vP8Yf/vlb5PLFWwRjYz9dRCOg5QOIvkBE+cWzuBTNi4Paw2i8CT4POl0is1bVlRlsum7z+N3djHjkk8dLlSiO1OTM6m+V09x+21vwbGdWJ5//nk+9Zmf51++/RD79x1FS/v92bhVS4EvFAUK5Mnj4eFr3yzAoHyU76E83yzNFEvDhZVv8UkmwSwza7lHT42zf89R7rjzViTSxOQyEM7goYcfRo/NsHbNGqob6giaVjY0N9PS2YGUAi2gu6aZjqoGnvnRLoYGR80MOCEQwrE1AkXm5zTzajUaX6m5IhzJt2g0Xd2t1NRk3wmseONfTxlvNhYq0cWpoVEpdYZlS5eilKLgefzFX/41Tz32BO4M7Nv1KlqAL4ympdEoW7lm4m5lSe5ZkttyVm1q1T1ViAaB+Ay48AyIvH8Jo6MTuE6GJYuWIQS2+aRESofZ2RxPPvYErVV11DU14rpuyE83naKmvg5HOmHqbWVTJ7Njs+zfcwwpXczXaAKRxInEB59SzqcGHftciQsY30xDQ2MtDQ213ZSJfklioRLdGegfls2NLdTW1SIdyXPPv8AjP3iYX/65z/JzH/ooYyem8AoRoX27rHEkQSu08vF9L6yA8/DxMGq9r31TH56Qqoni+thNCMHE+BRNDS3U1dQnSCWlQ19/Py/u3El1RZZUOo10nHCXgI21wZGm+Ke5soa2dC07nt2L8j20XfIpbF8dVOPN6awx90KZmXSB1RdzNg/y9dlshrb2xjSw+HV/K2VcMCxUoqvBk8Oqq6uHdDYLToZHH3+C9uYWfuKnP8rNb3srMyMFRkcnEDbfrLW2pA9UdM/e7ECAh8KsuKJLdZ+Is6LYvAvBi8+/QnW2lky6InmmAgYGBhCzHinhMDUxgVYqrLP3fZ/Z6WlQ2lb1mcP01jaz54UDjI9Nxg4rSh4e5nmOeIFMqQ2CzwmuK2nvbAZZnrZ6KWKhEt33fd9f1NsLuHiex76X9/DWO+6iubOdls528pM+Rw8dN/O44+Uw2kMpLyxtjUpkoqqWhFsb/FcyDjZlpb7nc/CVPrZs2YyTSoV5buMRaHbv2YssKISGgaP9TE9OEjB9ZmKS0ZOn7NLLGqU1vtLUVlQxfGSEVw/0W2Wd+U4iea4B7MfRQZluSY7HymKFoKurhYpMZh3lRR4uOSxUoiu08JubWwA4NTzM8PEBrt62Hek4pNJpUsrh5R37rVFW0S10vzFXJ+GFRwp76cYt5sWomt68mpvNMzY8ydKlS4jXwAeC28DAAC4SoaHv4GFe3b0v3OPR/QcZ7D+OsoJZQHZXOlTrNMcOn4hlxEp4GLHPE88OCOxCi0GtexDHx+bfapte09br6entoLmlbhXQdS6/rDLOPxZqCWzBcVKz2YosAEODg0yMT1DXYLoiCSnIOCl2Pf8K+dysmf45pz7MYk5cK5L/J+pK4+Nm0MZCMzOdY3oqR21NbdTcwarxALlczgj/QjB0YoBH/vnbVGQrqKqrZcdjP2T45FB0BBFNta12M0yMTUUkj5N9ziAUCHbRAKSwGYTwfbJkHC+I6t7bu5rrjx052QG8MnfLMi5WLFiiC6Fnla0xPXjwAOQ90ukMAPlcjpQPh/f1MXRymPbOZpteOo3rGy94TyBy6UttJKVkbHSSwYFhk/5y3dgSthohJFOTU9Smswgh8PMeO5/8MSeP9ZOtquLE4WPkZ3M4UlLhSipsiymloZCtov/gAJ7nx+aTz1fbUVxYI9C+Cj2FWEVNYi/x4CXlOrQ01VcDm4DyyquXEBYq0f1CwZ+azc0A8Pzzz1OYmmFmchKAqfEJClMzTA1N8eqBfjq6W8CfWwKbQBF/DKWDWvEiohdNGvd9RaYiQ6VtKiGCmFpI+7qpyJMClBDkZ3Mc3nvAetLGgmdcSXXawQkq7QT4FWlOHh8lN1sgW5kp3ZSi1MnHzjYQ4wgddftKiX0JR9Da3ojrysWed4brVcZFhYUao/u+XxibnZ0FIJ/P4+ULnDzWj1aKk8eOMzM5TVo57Nt9+OzrGyNmmHncSocWMSofL3b9BVMTM2TSGerra8H3rQCmUL6HX8gzOTXJdCEXzjkBgSMlKdch5UjSjrHmrhC4AlKOIO1IajMpRN4nl/fQgaAw5zbP8/FsQyKPniR53A/QWtPd00ptXc3l3Bn2ksRCJbrK5wszI8MjgCKTTqF9n1d2vMSRffvZ89wL5GZmqEtXsm/XYfJ5rzTZdVhNQ6yfRChezV0pleRgYG+plMPMzAyTk5MEs8ZMe2ejuhc8j4m8GZSkELiOIO1KMs7/3957R8lxnXeiv3urqtN0Tw7AYBAGOQMkSBBgzlEUKSpbwZIVbMv2eu23a9la7zkbzu7b4/feHtvrfeu132rl92xJVhZFkZRIigGRRE4EiDgBGExOnSrde98ft8Kt6h4A0pqcAdgfTqN7qqtu3aqu3/3y91GkDQ1pg0pO7hkEdY/Lpwwdk5cn0HfhchhlF3EBVAO+9xLShy7LSnNlvuFlQB1NyHDZ1rZGtLc3dABI/q/9RDV6L+lGBbpgnE0X8nkAHPM6OiBAcPrICbz87R/g5P7DcF0XDak6TA5PwTJtBHzLf7KV4gzVAt9mPDHUUFjPiNVSj6aWHKgmBwpr2AGarqNz/ny4gkEjBAmdIK1T1BnyldIIDD9nXHhBMxqFTikoISgVyrjYN4SwZqTKxYHorNWFgIG7siik4DxyfZF3dc0AUJdNo7GlcQWA1mu4HTWaI3SjAh3cxcTU9BQgBHL1OThgGBsaxeHd+zDY048EJWjNZEDLHMWi1OWjHFuBSIXy6zvP1HqyIUf0dWtAcsGGhiza5jWibBVDn3UgWROsXbsGLjg0KpDUKHIJDXWGhpROkdSl6J70RHhKAI1QpBMJJHXD4/TUE91VgKukAtyrVCtkB9UwMi52jco8VfHd0DXU12faAMz/ZX+TGs0e3bBAB3BxeGTYFYyhqakJRKOA4MiPjoGbJjKGhoaUAWe6jIH+EY9jRvlaxE4dE8eDBUHR2ZUqDxGumEgaSCR0TEyOhbPzd+cCN23ehOa2FlAASS0Et04pDCpBntQodBouLYamI20kkU4kkU5fSYpWAa5s9dQHzuQ1UE2DrmvQdA2apslMuAoXHaBpFPPmtzRRnd79S/wWNZplupGB3js4ODjquC5vamqCkTSkOJyQnNLQCAyNAhbD5YvDV+CDcW6u/C1EmBBCvDTRKmGxVJO3+fLly4plGx5XZVi8eDEWrehG0S57RjcKSmjFOOrQCU1HXTIJg2qwLGfG2WMGoZwzDteVMfKUUmi6B24qWzLrhgbqxRdEYugBNDfXI5VM1ET364huZKD3j4yMlfLT07S9rQ3Zxhw0wpEzdOQSGjK6hqSmodFIYfDSWJjQEnl57jMlik1wKH3R4AE8bKwQivvhGJpO0dnVjomxoofWqA6frcti6x3bMG4VYFBpcU/qBjRf8fZ29wUGWZaaIJlIIKHr4Jz7MWwIo/yiVoX4csVcBtdxAfgtnZR+cZ7ln1CZXaeSEFIVqcum5mFmp32N5hhdz0DXAKQwcyzAcG9f/3BvTy/a29rRsmA+bNfyuLl8JXWC9kwGY4MTYFwxq8MXzxWOzUOx3K8XF/YzJ5G0b7+QQ5DnLYClK7qQSWfl9wgVA0LkOHfecTd67RKmLRM6pUhoGtJGsqKOOyGArmnQqIx0S6QTmNepdKOpQpVbpSThV5VRC2XIbq8UmledxpdGwnVLIFefQV0mtRRA3dV/phrNBbpegb6ioSn7l+m65HPUoN8A8GUA6yCB79PU6MjQkdNnziCVSmFh9xJMmKWwsKO3U30yhbH+MZQKJiDUOG8AXocVAglG2RaJhsUVA1JYrh/iGptwfVMWPT0XwFwXfscYqnnFJYXA+nXrsHT9WlyYHIdGKXRNQ0M6jbSRiJyKEoKUbkCnGjiXQG9qaag0IHqzEAqnF15dO865rDkX5KuHgTmR9lO+IY4oRkcBGAkDhmEsBNDyy/5wNZoduh4j4xZ0LW7/y0/9+uOP6oaGsdEplIrlT144d3no1Mnze0YGJ/8fAK8BKBcK5v5zF859mVJKbtu2DQd+8iIAgaSmw+UcjHMkdQPCLMMybWTqUhFDGwHCEk3+2StyvBXxOkZq6HlrWyNeuLAfU9PTaG5pDgzvPpfM1ufwla/8Nv74d34f6y0L2WQKyUQCTYSAlkswbRsAkEkkkEkkQSmByzjKzIGuayGgA8lCxCbiT1e2SGYukzZELjwgh0eF65Wikohw2UgkDTQ25xoBNAPo/WV+vBrNDl2PQP/sylWLH912xwZpLJJciVqmPf/EsfPPvPbKgQfPvNO3Y/DS6H8B0Hvo8KFSoVio2759G360rBtO3kE2kQLgwuWyRTEzHelL96LEAD+Ji/oZHTIHfcYY06h5mngDBC42QdDR2Qo9ydHT14fmtjaAsxCKhACc4+6778aqW27C7v1H8ZH1N4NSilwui2x9DmXTBHMcJHQDhq6DUoqJ6Wk0LW1DS1uDTE5Ro118PVv1rytzFIwHqknUwOjtTYmnsoQZcz4Zho7m1oYkgKu1aqrRHKHrTXTvyjZkfm3Lrathlkzkp4ryNVmEbdpYtWoRvvDlD9Z/+SsfeuL+h2/5ZlNL7msHDx3Vent70NbSiu4Na1GwZYKIoemhH5zxiGGKelw8ig1RxfREKv7ye5X7PdJ9vp1KJbGwuw37DrxV9cIEgFQ6jS9/+Uvopw4OD16ErmtI1aVR31SP9nltaO9oQ31jPdK5OqSzGVwuF7Bw/UJkMklvESKhcZDE56CcKxDZ/eqvXkhsbB8I4eXlR+dKKUVjQ64OtbJS1w1db0B/pLu7c/WyZQtgli04lg3HduC6DlzXhW074Jxj+fIFePqZe5uXdHfeOzo2kvr5Sy+DUoqbbr0FU9yFRikyiaRn2aYQNkOxUA5aE4fVW2MSeWXcTFgROgAYUXaMcssFizvw7LPPYXJiPOqGA6TU4Lq495678dWv/RFevngOfZPj0HU9KN2sJxKen5vCZgyDrIB1m5bJNYhQhHnw4WSrySDMlUEy3OuvFgE4QpALoLKenPcxnUlC12lNR79O6HoCOtUMeteGTcv1VCYZFktQYjRloBnB4OUxfP87v8CS7oX4d//x97Fj5+u4dGkAq9euxSU4KNoWsqkUWnM51KfSMARFoVBGWCY95rT2z6C40ggNY88D0IqwVptv+AoNYAxLlnViaOwSLvS9E9HtBZd+bcYYmMvw8Y98HE987EN49sQRFEsl0MB4R1G0bRzs68FfvfYStBWNWL5mUaBuVKNq/i/mMjAm3WuchYBXk1tCzwGitkbvXzqThKZri36VH7JG7z1dTzr6kqbG7B2rVy+qjP+AxA1jHIcOvIO39ryNpz/8EJ768INIpZJ4a89R/Pyll/DpT30Ka2+7FWffPIyVixYiSykypTRyowMwTSuwuAfk66vxEDHFlSYd657BHqEkECcuOOZ1tmDRkg7sO/gmNq+/Bdzvm879lsrywGQiiX/5B/8b/nR8Et88sBf3LFsF3TBwaWoC+wZ7MeqW0Ll2Hj72hcegGZqnZ1+bS5szDtu04boMrsOUfHT/utSAHi/xJS4XCKCuLo1EwshYpqOKMFeia92vRu8CaVffZc7Q4ytWL/z8fQ/cQmnEEiyBODI8ged/shsaTeC3f+/XcO8DW2EYBjSNYnJyGt/9x5/i4QcewKq1a/CDF36KlS1taGioRzqTRv/kBEhnBms3LgMXYehrKIojCJyZ8VFVJABS8UGS7oWX/uLFvbj/3vuR0JNBH3XfNiD91xpSiSQaGhrxw9dexu6eUxhNO+i8vRsf+PUH8JHPPIzHPngnmj23GirOrCa2eO5CLgDBwVyGYsGEbTmwTQd+cQ7fIBGJ3ud+9FzsUkFQLJRxcN+pyXLZ+i6AaqF5FXfoGvap0btE1w9Hp9i2pHuBlkga0fxpQnDy7R78/IW9ePixO/GZzz2NbDYTWKGFELjjzpvxd//jh/j6//wG/uRP/hj3P/Uk3nz5dXywpRmEaKjPZDAyOBG40VVnk7iCWBxQTMwX/n8CAAkXB8YFtt+1EW8fPY/9h9/Eg3c/7rm3pMoxNTWNS5cuYWDgMvYdeAs79ryKJz66HbdsX4v2ec2oy6a9qrUiXHgqVIyoVCK8stU+Wl1Hiu3cZV6QULBjOHvPWMe4AI/Xl/CuSdM0CCLaAeQAFK9+k2rcfDbpegF6QzqT2tK9bAEECLjgICDgnOPIodM4sO8UvvibH8Mjj98JSqkMCQ2c2AKt7U3YdNManO07gYuDZ/HpT/8avvrmPpwdHMTqBV3QqYZisexxPQTx3ddESnAJgMCIFXjjfMe0XzbZ0PHxzz4MAhOjpXNIavXewsLwwqvP49CRg2hozqBrbTv+1dNfQHNrvTdsKOKHrjMV1JW6hSxuwaCyZMd2ZPiry4LrDY5S9hNC6vJy7ur1IvClGwmjCdLFVmunPMfpegF6ri6T7GjxRFVCCEzTxnM/3oFiwcIf/+vfxMbNq+VDDQRGMv+xNRI67ntwK15+eRem6XlYIotMZxrfeGkH7l+2Fn3jo2hbtSQE0lUwTggg4pJooN9Grd7yAH8HAgGOxuYcAGC4cAqEaN5yJLDutjas3/4odEP+LEEKKQJsB+ORQDwPJyA5fegfjy9WQgg4juw6w1weuuSC6wp7pMsU1ijIfbGeAEilEshkkgwAQ43mPF0vQEcmk0Yqk4QAYFo2fvT91yA4wb/5D7+L7u6FHsh9S7g8xn8wBQc2bl6N73zrBfRc6MfKtYvx+d9/AtsfWIf+C5exji/Ctns2yif4SqXQCFHGDim0/ZPAcBAasBSuGw+PJZKT+39TTfruGeNRPu2HoEaUf7+qaxTgvkhfTSCRAGdgLgdjHOqiFO7vtZ0K5qBcsDKmZ29IIhp2XKM5StcL0FvrsqmGVCoBzjhee/kAdM3A1/7db6Gra54nqseiwBB+FgJoa2vCunUr8NbO41i5ZjHq6tK4dftabN2+TkaCe2WV4H2WxrFYquhM5CvlgZob80wrKK20j8ckAF/tjkS2VerhQgbih2WgpJhRBeThkuO6LCq2V8zG5+Zer7n4rEl4mVS2h8qgFu9+XdD14kfXdF2nmqZh144j6O8bwp/8my+hq2ueLJpAVX01DgrfCQw89oG78M6JHkyOTQOQnNNlLMzkgvRVj41O462dJ+SzTUnkLqlqt5+uCrXwRCAOk+i+fs66YkyLTpKoRnLFP1/terjk4H7NN28unAtvGmoOuXf5XBriXMeF6/g93ZUhvXc/4cWPUZD/R+R3KU9QAiG5efsv8TvWaJboegG6m0wY/PiRszi4/yS++LsfRueCNul7nhEMPof0O6BydC9biNaWJvziZ/ugaTIDzU9aoRqVVWgIQa4+gzOnelEqmhGdXXjjhdVklHOop1em5AfxUEpRLJTDGuwksq8ghIigu0twSqVhIucQHqflLpftm1nY8cXv/oI4gIMpCsnRGVes7WrMgAj2CReBUHgPpksQuAE1KfKkr/rr1WjW6XoBevbC+YHEnt1H8Xtf/RTuvn8LgIgZqfIIn7Mpu+i6hqeeeQBvvHIA/X3DsmQSUavCSBAz5tWRIwTU+77SM62cKOJ9RqCnU0Kg6Rry00V88+vP48Uf7/Y4e8VsKYTw6y/LeXuAFoyBu55uzTg444IxJoJWStwv16wIFOEUAhWAMw7XdkOxvYrBnnkReupNJECQf6/RMJVVN3RkcxkC6V6r0Ryn60VHT9nM0T/7mx/EXffdLO28EU6uPOGqlEkQ4foCwNr1yzF/Xjt2vXYIv/b5x+E4LuJytKZTuA7D7lcPY9W6JSAAEgkdQggkkgmk0wnohg7d0OEH78RJCIFiwcT+vSfwo2//Arn6OvzWH35UjlPFNx+o+WEUUDCOqneTQCEPj4vZySIqtW8YdGwXjuMGLrPoMQQCwvvOW7Z8TYKEqarq8JQQJFMJoMbRrwu6HoBel0wZH/vEZx5L3/fIVtkHkRBQXxipAnApX/qbSfAuAGiaho9+/FH8/d//GKMjE2hoykWkcED2Av/QJ+/HnteP4CfffR1Dg2MQXFqqU+kkOOfQdR1LlnaioSkLSinSGVmk0bJs5KdKGBwYxaWLw7BMG/c/ehvuffgWZHNeII8iGZOAA/vWeo98V1/ssiC8YnKq9T9q7/MGRMC1uctgmTZcxwVzlSQW5QP3KsJGAO6z8zh5Ls5sNg1cW7BMjWaZrgegf37b3Zs+9/mvPIWEroMK6vmePfdSXN9FCGr52dN2PTQzF1i/cQWSRgrP/eANfOZLHwBzQ4Od3BfoWtiOj37mIdiWA7MsY8N9Y9XE+DQKeVmtZnRkErbloFw0MTmeByFApi6NdZuW4Z6HtqBrcQcymZT0iTMegM+nwFAHBNy3MuQ05lmLW+qv5BGANML5gTK8ItRNGvIYY1cGuJ/N5i1IhAC6YZgAzl/57DWaCzTXgb566Yqu3/7KH3480dCYAziF5OVaAHBS5Sn3DVm+PKzgCIAsWXzPfbfihz/4OUr5MlLpRIU4zby/dV1Dtj5sB04AtLQ1BAY1ori1/O+FNyW/3RFjPPDvR0V0j2d7YXRCVaxVjl3VbXhlUhLqAiOc60ZzywmVE2LeXKifoqso+yq4/bl7dxVm2VJva43mMM1lY1wymTH+8KOffnjtus0rIASBTg3oWgKUap6BTDWJee4g/yHlvmELofXZe3EmcOddN6OpoQGvvPBmZW44EM1UVSxdQshqK8zj0MzzTTOvfLLrRZ0xl4EzBfxClm0KI9YUwTyYZ5TdB2aISlm76p/VvhNCyCw1xpXIQd+o5u3jcXkf1PL2+emrXuVb4c3Tv9NyARGoRcZdFzSXgf7B27Zv+ORTH7tfWrChQSO6B25f1A5dT37TQ3gv1QqtOoukTiuQSifxqc8+ib07jmN0eFIGx0TUgJkkhSrkc9/IMZ4xLWjEGB6tiudeUFuUXV7xhMqKVc2rGJsTc5lXnINVhLRKJwOPuOmC+cbasUUtBvILzhkFYMx0W2o0d2iuAr17Uff8r/3G73wo29BUByE4dGggnIY11bkq6iLgMvFnnagflBdnHKvXLsP69Svx/A93BBwrFFErgaQy1wheIhw3lCyCIg7KfiICIl9EFojMnFR5vxYBuYpkb5k2bMuBa7sICl4qpaP8LLZIvI+omFEFMcZQKlplAOPXMLMazTLNRaDTxtb63/3i7z2zecu2tfIhdDio0BB/9ETsHSQUd9VAuUAGqODyAk8+dR/OvzOA0yd7QCi9OteGgicVm4oyXc2YFujk6qJQcbKYbq6eQ7W/XQWFBNLX7dgMVtmztntiOwhCzu0yOA4LJQrhc+74SSrnyrmA4zgEta6q1wXNRaDf8dgH7/zUE8/cDRCCctHEntePeZGlMR1WOSgOQBF7VdkAxjg65rXiqWcexHPf3wGzZKlaAUQ0dqRisVA5rRDKTuEhAaji0kYFUONVbNR9qoBblRLCIcK67IJLY5kf3+5nwYXSBPfEed/dNtPK4W1XPBrEK2tFCG0A8NgMB9ZoDtFcA3quqSX3L+57+JaOlAzGwODAGMyiDUPXI8YgIASeCuxK5hOy8AiP8hDCGce27ZugEwM/+f7rYZ9x4euhYfQZPHCrFu1AHBfVwOxvU+bg76vMZSZ7QNWXPw0SHhoAPDhWwLZdOJYDzqSBMAy6Ca+LedvD84XlrKKmTv9v/zuZJ2DbDgAswNx7jmoUo7n2A33ivkdue+TmrWsCv27vuQEsWtQpv1XQoQa5xONE/B3iQSgxF3YwYCKZwAMPb8ePv/sazp+5FGlwqLYq8ktLRcDtjU5iwwa92fy/gXCJUpArgouJ0kyONEIR6aiiGgD9hYBzIf3mjMF1eSysVc6ds0qfugpy7+JDCUG5ga7L8NorBzA8PoGmjvqHUqnEJ3F9lSV739Fc+nEWdC3p+PM/+NpnFnQubIfgArbtYN+uE9i6dRPSmdSV7VEzgCWu4qrf+uGxnDM0tmRxaP9JnD7Vgzvu2QyVdftcUz1P3CWnVk+NWtiVSaDiD4ConNObsbfNd/H5ryBLT9HX/cUjWPiItLSXiyZcl8E2HTDXjdwnvwCF4CLg0xUFMKusNP59eHP3cZy81I9bn9qMpTctyVFK7smPFkzHco8CcCuPrNFs01zi6F985AO3b1yzYamMuQYwPjIJq+SgoTEXBU/AzUXw4EZVWBIxxHl7Kvv4gigF4wwOt5FMG/j1Lz2Fk8d7sG/v26BaWM7Zt1BHjWn+XPykEiVlNaYmREm1EsbDfYQikytHxEVzRZoIVBbvGCGkpd2x3aCEdCh72hlvAAAgAElEQVRzyBFYnJtfBeDq5mKhjKMnz2HZ1m40tOXQ2FGPzY9uaNlw39r/VN+U/c8AmqqPUKPZpLkC9K4Vq7qeefLD98j8Cc9wNDI8iWQyCcPQFYNRXO6NieQRn1q4KfgcOtPBhQsmpNuJMYY165biA0/fg7/4T/+Ai71D0grvG9MYD4Dsp4UGRSpVcKvi+Mxoj9reAuwThYNHRXM1iCViEPTH8qLaXJfBthzJtW2nopIMY36DRWUycUPADNsoJTh/9iJEHUVDey5IjTUSOtbftyq16o7lX0pmkv8eQLb6VddotmiuAP3J+x69bf3SFQuCyiYQwNl3+jBvQYsUWb1tVdTc4BWEmPokIm/ysydau8KBy13ZckjZ4wMfuge5XBbf+O/PwvEAo0oMqhVdDkjCc6gnIoFTL/ZFKCWE4XdKKygf3KodIC4xqLKL6tbjwnOnyUg4x3Y9a7tnIeBCFp24QmXb+GzVz5wLnDrZi4b59QjbpkvJglKC9feu1pbdtOjLmoZPzniCGs0KzQWgdyxY2P7ZBx69jfqGLgBwXRf9PUNYsnS+l/GlVjuJypd+wYbQAu9xXhDEH2khBFzuwGWujABDaCjjnKO+IYvf+MrT6L1wGaMjk5E0VBn+6j3aqvg805Wpznx1DjMAXzWmBRKDF6kW1RmiaoUvHTi2A9u0wTmX0XAs2njRD9VVmTaUzzPbM+RG23IwmS+gZUGD1/KZgFCAEAFBBBIZDavvXG5km7KfRk2En1M0F4D+4Vu2rdm6dHmXTKH0AFQsmCiVTDQ2+SIiFNlYEYsVYKsvvzKLuj/nHA634XIXamy8r2dzIeC4Dm7Zvhbb79qIb33jBVk11XNFhbo4Ks6nTFBelWIci6rlsf7jSgCLfPFAgkA4miexSP91yPnD7xjjMEu2tLTbLizLiXRwYYzBcdyo3z0646qkgt4s2yiWy0hmpOszaDihE+i6lEgmLk/CMh2GWmjsnKLZBrre2tF05weeuZcmU0ZYDgmAZVoAACOpe9yXQX3841z1yo+rjOl2ueN1RvE0fkU8lvswMOEAQsDIJnDo9Bm8/tJ+TwqP69wxBEe2heRbtCn1XXQKwIHKBSwYJepCo5QCfoea+NUKwDadQCe3A908FNkd2/Ws7Ndke1OHjlyyVbRhFqyI14FSKU31nbjkHnv11D+aBeu3AQxfZegavYc022mq7Rs2L79pzYZu78EEgkePyLY/ZdNENuuACgqNaKBEQ9xWjZBxqR+D8QQEmHDAEYJc7fctwMEFA+cMIATjo1N451wftn5iC7797ZfQ2dWGVeu6K/zR0bPFTPy+Cq5sD4xnUMATWThi7Nb/qHDvamd3XAazbHmGNtcztnnfCgHHcQMruzpjVeCYSWxX/06lE0gaBi6fG0Hb4hY5PBeYGi7gzL6evp7DfV8f7Z/4CwCTlbOt0WzSbAN9oZE05iUSqpTnxWcRgrpsGpqugXMGDg5BBDQiQAn1AF/Jx9WH2B/N5Q5cwRCI6sE3ftopC4JrNI3g2OGzsBIcXas7MXLbGP7+G8/jj/70c8jWZ2KGrNAVFlrQSQVaKlxyFbchhJ8vovtGNhXgFYZGIvV5s2QFZaJs0wn0cAIRdE2FssjMdK/U7/wZBVIUBxKGjvUblmHnviNoaMvBLjsYuzQ+Oto3ubP3nYv/Fg6OVL28Gs06zTbQb2lrb2rUDU0J0ZQPKCUEi7vnI51JyodNAAxSfNe8OB+/yoy0eEcB7H/igoPDr2wa3VeAB4Y+/8yOzbD/wNtYeFMnAIH196/BL86+gb/9q+/jt/75x5BKJ+X+Pp59fTv4D1EJoxqTJnHwh1IM9d1sM92xmMji2C5s0wZzZLkox5ELGgGB4NLyfjXoVZ5LUW3UgwXBHXdvguO4OLfnInrOX3Ymxqa/CuBbAMpXPkuNZpNmU0fXs7n0vVu3r5cN+0SlK0cGzkiwgggIcDDhwhUObG7DFhYcYXsvR7rMhAPm+cdd7vvJOQSU0sgQnqju12/zwEoJRobGMTA8iu7uLhAAmgbc/MRG7D/xDr79jRcCn3WoP6u++cDihjh8IoavQNwQVQ11cU5blTwjnm3ZcBxXdke1HW9B80R221VUokoKzYexf4HXQsT2F0gmE3jk8e34wpeewrJlC8oATqIG8jlPswn09Iq1i+evXrck4KpEMVz7cdqSv3MPrBLsHAwMrgdo3w8emo0EvOASMPkSHFxwMMGlGsBDUT0kafA6eug0kpkUlrZ3QSMUtunASOq49anN2PHmEezdcRS6rsWwrPwRbItG0amnCtXy0E0mF4/w+yuC3NvBtRkszwhnW45X0UaC1HVcuG71aNTqqajed7Eow/iS5X9rJHQkkgbHtbVMrtEs02wCfdHyVQuXNLc2eHXGFX81ZGPE0ZEJlAqSWaiGNOGxRcmbmfceciffeu5zbQlub7EQPPZ8RyF47nQ/dE0H1XQ4NoNdcOCUHNQ1pLH09sX47//t+3hz5zGvXVMVgAfO/OhmlYJYGRr6wa9E1Yz9nHOYJRO2aXt6OQv2quZKU/l2dC4Eju2iMF1CuWgBHKCUBgFKFeuhR5xzOI7LUSsldV3QbOrom5d0L5ifSOiys6dP3kNfl02Dc4H+viFs2Lzci5iTHJ5AQAQRaX5YjHzeJEfiwWKA+INK4iI1Cbb5jQlOnzqPF194HQ4clKdMuKaD6eE87IINcIHv/sPPYTsOtt+9yYtiExE0CkWRFrFTq1b46DxQuf9Md07Aq05reXq5G0gojDGZnqrEsqtrWphtR8A4x749J3D6Qj+MemlRhyWweEEHNt20ArquK/urcyNgjMMqWy4Ae6Zp1mju0KwBPV2XnNcxv5kGVq2YkckwdNx1301IJqVF3sctIRLa/mMn/dG+Tz3YM+qpUgxjpMJ4pkgSQuDpj92PxsYcBnvHoEGgTmhIp9K46471aOtoRufCNlBKsevVw+g9fxndyzujBSoQHVOeP94ssbrdvdq2uJVcQKaJmiULju1GQlo553AsR2m5BGWhE7FxBN7ccxxHzp3Dsu1L0NRRDyGAqZE83tpzCsViGXffe9OMQTW6rqEul661Tb5OaNaAXl9ft6ilrTHkLyR06EiRUWDLtrUAlBa+KlgibusQ9AAJXMgBEYCIyKFV2aXgAh3zm/GJzz8W1qQjYf63gAjUjIc+sA1m2fZ6qkdOFcyFUhp0ZPUZfxDlF8w96suusuaFYBOA4BzlohlkqLlKNGEQKKOsJ9UCdAmlOHe6H2/39uLmJzcgkTKCoKHWBU3IPV6HIz89ga6zHVi2sguCc0T8AJ5br1S2KGY/6KpG10CzBXQjkdSX1NWlIdm0J9LGxGwyEyJjaPDF4aC2etx95evLkePi4/r6v6ylpkZ+xQs0CC6QSBhIJo2qPnI/t/ti7xBOHDuP4eFx1GXSWLdhGboWtSObSwcBO1cT2f3x/Wszy7bUzS0HlmV7dgcRtlsKBps5Bp8xhsOHT6NjbTsSaQOC+Txf/gDJugQ6N8zD3r3HsLh7PjS9OpYpoTWOfp3QbAGd6olEIuGJ5RHjtSChhypGKvj8IjDxMFZ/W5yi+I5qnOGgVY7isePVb+NDeNyfMY7v/8PLeG33ISy5YzEaFtZjZHIch547C5rn+NhHH8K6zcsiwTdVhXoltgAAHMdFqWjCtlyvoIQsHuF4rZD9na9ksSeEID9VRP+lYWy+bX0gtQBAghpgQsb2ty1uwYU3+zA6PIH5C1rDhYnIts+aTpHKpOoANF/hdDWaIzRbQE+5ttMoRXIS4T3E67SkBo1Eup0qFIIcUMX+6N5Rw1iliSzcWVkqZlws4hTRJohM8jj9di92HT6OrZ/dgnnL24MdnW0OLhzswV//zffxxd94GptvWaVIC2rqqy+qh1yfc4FSwYTlGeBsy5YdUl03CJK5EqlLGxcCmqFBN/RATWpIZbGsdTHGihO4ODWERMpAqjGFiYlpzO9qkzUCCDAyNIGGxiwMQ4eh0xSAxiueuEZzgmZLv6LZXJ1RJ5v0gVAvK0uXOm2QoUXVTp5KNRVRhZsGe13ReybfRHSRCCLAggyTqOd4Jgz5vnSZgEIDV9WuPUdw00c2Yv6KjjAjzbMzdCxpReu6Frzy0ltwbCXfnUfnBRHWYBcAyiULpXwpFN1tB7Ytc8+vBnL/0v2rSqUS0EBgFsPkFIe5mDYL4CIsEGlbDkpFK1jMymUbp9/p9xrKEBiGDgQyT43mMs0W0JsE562arnk5zTRETVWqHnwiVBYY44gBalRpwE8HFaGVPvw7sONXnj6+ifiWdAlwP76dUILLl0aR123MW9qODEkiq2eCAaRV3EVHdyv6hgfRd2EwKDIRHd+zNPogtF0UPZDLdwvM64wKAJpn9CPh9IJ3+fJXJPlNKp1ER2sTeo70g3MOSinKroVz4324lB8CB8f5Q30oD5WwcHEHuBCglGJ0ZAKJpI5UMgFCgGQioQNomOFHq9EcotkS3TubmnPNddm0x0RVQEqaQYuWVC1fW2HhcT03suMVSBoE43MhEQt/qEYodmjvA6UU585chGNwpPQE2pJNsLiNgluUnn6HgdkuKKVwOMPF3kEsXdl1BbOZAGcCpXwZ5ZIFq2zBLFu42DeE3v5BFEsm6nJp1CWTmN/RgnkLWgO/ftxfH7kiQnH7nZvwve++goMvnMDyWxcjnU3BLFooT5soDBcxcW4CDz24FR3zWwJj36m3e7Fm3RLvWgkamrIapZhfpUFrjeYYzRbQM4ZhGFAzwWKyuEDIbSMbUWlPDsVdKAq66qxSydum+tPVr5QtQZ1GJaAmmIYI7IbRkblAYaKEhDCQ1dIouKVgfnbZBrNlmSeraIOz8PpU+4D/JvXyMgr5EsySianJAnbsOIRRN4+Wpc1IJ3KARjEwNIXdzx3D1s1rcett60CvKB3Je7NgYTs+9xtP4q29JzCw6xL0lA7CgPpsHbauXYX5d7UilTQAIctE9ZwfAHMZFixog/AWkoWLOtDQVL9iYmx65nPVaE7QrPnRKQWxTBvpulTM7VXdki6/uApjjvjW44Ks+lFtRRAdUU0Pncm9N5PXj3OOtvZGTP5iEsQG6uuzuCRGpCHOcuCUJLgHTg+jJZ1DZ1dbxOodGBc8V2ExX8L0ZBFmyUK5aOJnz+9BKetiw71rQAiB5VpgnCPblEHDvHqc2H0BiYSBLbesjmQDVk7eM8A1ZPHQo7cFTRgTCQOaF8ev1sQXXODC+QGsXd8N3dCCApVNzQ3I1CW3TYyhA8DQTD9LjWafZktHN6any2R6Io/8VFGWkFKMbQHIoyp4lGJ/+0EtARF1RxEsAlFe53F2L6nEL9EU1E+/Elf0R/Az4jgHYxyLlnaCjdl4e/dp2HBgMa+GW8mCWbBw4WA/xk+M4fHHbse8rtaKSD1pfCQolyzkp4qwLZm0cuadPlwYvIx1t6xEfSqLlJ5EUpNtzwQXyDZmsPz2bhx75zwKXn5A5BKqXIofUWgYOjKZpPSXK/YLX+CaGM/DcRjmd7YGrZ1ABOrrM8hlMxsBPHXVG1WjWaXZAnpLsVgySiUL05MFTE8WAutxBOQqp1dtViL4L7RZKZ1UAlCrRjP17OGXXgSbD25/f1R9ASGwK7ulyoi8+sY63HnXZrzwD6/ijbf3o8jLsEoWLp28jIPPHkeDmcJvf+Uj2HLHelnIQrEh+HO0TVsugA6DY8luqG+/fQFLb1qM1tYmUFAQEBiaAY1owbyyjWkgR9Fz4TIIJZWxQTGwB/eOKN4MICxjDVkX4NTbPWhuziGVToQHCyCdSWLDpuWGZmifRK3E85ym2RLdJyzTcacni0YqnUQhX4LruKirr0MiqQdgre4a82A1Q9YXoQREEAhSxUxPVH3b2+DDwRf7lQdepQo1In5eEoLkkSdvR1/PIH785y+ifXUbikNFtCSy+Ohj92P73ZuQyiTCYJmYN8+xXUxPFmVWmu3A9N7zpRKWL+gEBIEQHLlkHQiAkl2C68cPUApBgP7eQazfuAyqNaOquhG/VuUS/aXRNG0MD43jrns2RxYjv47drdvWY+fOIzdf7h/dBuDlK96kGs0azRbQRalYFoOXJ5DJpJCuS8o65A5DOpNEKiObNgQ+dJ/BE4LR4Qn0nr+MW7avld+p0XIINxFCQwMfVb6NGNBI5Piwbnq4f1itJnqO4Jj4uxBobMrhD772aZw8dh7nz1xC67YGbLh5BRqasrLMExeVAxKAuRyF6RIsrwuqWbbAXAbXYRgdmkRX0QIg1YTGVA4ZI4WByREw15ZBNYxjamgaK1fODy+XzIDv2LpFAL9EPfxwZE2jOHHsHIQQaGltAIhUkXwxQICgvaMZW25ZW//8wM7f4IzvBGCiRnOOZkt0P1g27ZNDg5MYHytiYjSPYr4MqyyNTvnJIor5clBMQbVI1+UyGBwYhWU5gUguRVASFHBwGcfYyKTk7loYeEOoz9nkwyofeK/UM4uWWfY02OCvq2nsqv4vhICmUWy4eQWe/vh9uOP+m5Ctz0SrvcQG41wa30qedONnpwGArlNQQdB/9jLKtgXbcSE4UJeog0EML3uOYvjCGPi0i5WrF4EIAVoN5KIS5DRcA4MXpQTFQgm7dxzFshVdMAw9tIMougyhBLdsXYOGhrrHAWy/wi2q0SzSbDVZLFGCu5YsXbShrb0ZnHttghCKjH7xBB4UOpScyNA1HDt8Fk3N9Whqrg/E8dCQRjE6MonhoXHM62wNrce+mBrTsf2HvhqI42aCmagSTCJ4r+o9qHJwuSjtFbZpo1yyYJt2cJwskMlx/Mg5pDsyoCmKol3CdLmAifI0QATMgoUTr5zC3ds3YdXqxco5wyVKtW9GTq9IFb6dQtMo9u46hv6+ITzy+DYkErr0ZMSNlALI5jK42D+c6u8f4hB4DtcUtVCj95JmS3RnrsPOT07kUSo7chqEQPcqmBqmjmQqASOhwbVdaKYNTdeg6zqSaQNt7Y14a9cxLO6eJ326qvhOCHrODiBdl5S+aFbpn4+L57HnNthUzYZFKQktz/4xinEwTldcJDxQlQompibysMo2ykWZmcYji4PAbbevRzaXwesvHUKmM4t5y9qh6RoE5xjpG4c9WsYj92zFunXdkdLOanBRRAf3LjBYyDzLnOTmFCPDE9j31kk88cE7kauvk/OpYhQRkNWA7n/oVpw82XPfxMjUagAnZrrkGs0OzVrbZM7FxpbWxkeXLF0EzgEZBUuDsFTOOFxb6qfM6wrKGAdzGZKJBHa/fhgLutqRSifhWC4cy4VlypZERw+eQWdXGxqb66PcVM1fVUzSUa+cV0E1+DskwQXOnb6IdDqJeInqmShsm1T9ZZYtTI3nYZYtmCULtmUDEFGLP6RuPL+zFUsWzkNpuIihsyOY6p9E/uI02lI53Hf3Fixd1hlG/1adDBSu7V9bKI773F0Iged/shu5+gzuffDWmAJTSUIAjU05XOofauzrG5yGwCsz3pAazQrNZimp44OXR0pm2cpAJGFSAsOQDRQIpdA0AUAWdXQcGTaqGxS6riGTSWLF6kV4+fk38cEP3xPo2bIrKsfURB4NTTkl6CN0xakkmZRXR15uCb7zH3o/lFQaqwgO7TuJnz+3G1/8vWeQSBggQkBUM/8rY1SNwoO0aE9PFDyQ23As25uCv2cUrpxzzJvfjMc+cLtspMhlkQm/2yxTO7F4rDoiUXjXM8N0AUKgaRoOHXgHA5dG8MnPPOqlpaodWauQEDB0iu23b8DhA+88XciXvwHgnZkPqNF7TbPG0QG4QuCZ5SuXNNc31AWio6H72WveQ+lxV8EFGBOy8mnZRnNLI44dOgNN05DLZWDbDlzbQX6qhAvnB7Bl2xrohhY+9QLRgBpEgRhC0Que8RYc3+DnCwLdyzqx6/XDsMo2VqxeXLGI+LiOcHL4toeQpboOw/REAcV8WXJy01JSVmcGlW9M8/ueEUpls0ihnjv2mUC5phhLD3akIFTD0NA4XnphLx554nYs7u70WlhVm1Pg7wwMkE1NOfT3DbVeGhjRIPAiriTq1Og9pdkEuiUEu3P+gnlrFnR1eCAUcF2pcwsQuC6HyzgYE95LNlxwXQ7bZuBCYN/e41iwsAPMYSgWLAwMjOHypRFsu2sjNC3qVKiInPMNeUAQbBOxLAPwM94A+dQmkwbWbliKN145iK5F7cjVZ+FH2AVlmymNBO9EXIBEJrdMTxZQzJe8slDXBvKYzB3xEoQSSOUxcrEJxfPwRcIFiEjbw/M/3oHFS+Zjy9a1CGrEAyCBD92zasZPAxlhRwjBkUNnWpnLngUwMfPF1Oi9pFnl6IwJram5/qnlq5bQMOxURHzNnAu4LodlM9g2g+0wWDZDueyioTGHkZFJ9JwfQHNrMyyboe/CIDgYbrtzg/SlA5A67wy6MhAA3o+I9Q6JhuEiBFFdNoNEKoGes5ewdGVXxLVX6bhWDH4eyKcm8ihOe+7Ekun1dItZs9WDVMVCzGw9J/HzBpIKop/DSwwWD0oJDrx1EiPDE3jkiduha9Tj1iJ6nFBq3PpRQuGaiFx9Hd451dswNj41DYHXUaM5QbNd2G9vfqrQ6zhu5CEVnMMyHZTLNmxLVlCxbQbTdFEquSgWbJiWi1LJwfKV3Th84BSOHjoNxgUsy0HHvOagyYLk0tQTXSvhFBivFEu6UPR6GSMbiruEEHAhsG5DN/p7B9FzdiAoAHlFErJzytREHsV8CZZpo1y2wN0r53hGKtzGXIFRyTu+iF1RNvBcZbI2PSEElwfG8Pbx83j4sW1IpQxAcKjd5YN5xK4pvGEEEAK5hjrcfe/NNJlI/BqAZVe/MTV6L2g2OToA5AnBbYu6uzbU12fDsFbPkMSYgOsyOA6DYzNPlJc52szzvVNKUSyUsXfXIXR2zcf4eB5di1qxZn23l04ZY7LVGKe/T4QlesCmJAImP7pENzTomobXXj6ATVtWQrsS2IWAbTrITxVQKpiwTQflYhmu7cxgJgQAJfvMm1tE547r3jGxPnpxvo1AAbhiIDRNCz9/fg/Wb1yGZcsXeGqE9yOE04ncPsVpUUGtrQ04c7q/eXR4sgfA3plvTI3eK5ptoIuyXV7U3Nz0SGfX/KAUcsgopNjuONxzs8myTJxz712Gg7a2NaNctnDk4EmUi2UsWToP6zbJWO8o2/PHjU5CBbnvLpZY8A5QRXIl5rW1vQmH959GKpXA/K7WisAYAimdFPNlTE8UgjLNpaKpgBzKHAEVXFfCLhTOHTGzR1QF39ZAw4sKTinFcs4Z9uw8hgVd7di4eYVXzjq8RsQ+kth7nHw7RsLQcfLtC1nbdn8GID/D7jV6j2i2RXdwB89evHj5rGXZ0shmMViWC8t0YVsMrsODABW/rnoYbSZ170Qyge13bUE2m8Gh/cdRKqo9/0IeVC38kyhsSfiWeRXYcTlf+WgkdGy9fR12v34Eju0qVnz5xhjD9EQREyNTKObLKBdNlPIeJ6/qqFdTddW5+uANy1eRyAoQWvZDXZ1AWbGC8X2Ay+EIzp+9hIbGLDbdtKLq71Pd9OZPqRLuxLuPm7eswuq1S24H8NGqA9foPaVZBzqA80MDIz8bGhwBpTSMP/dePgXVXKqwEiEEdF3H7ffcirb2FoyPTQXFESL14VCF46rGNr+d2jUSZxzrNi1DIqnjwtlLIJ6Vn0B2U5maKGBqPA/LtGGWLZRLFpjf+NBnwB6iBRfwc12CNcBDrS9xhNfvrwI+vGP3w19tQgNEAHI5vuTaI8MTGB2dwuq1iwNDn79cBPED6pqnLnwC8E3xwfwUA2cqlcBt29eTdF3yKQD1135Xa/Ru0GyL7gCAcslMaTr90NLli7VIOKvv2lH2VQVURYoGhEA6k5I9wSwT9zx4C/wKqiQ2XjCm/4BSRJ5iEnmYo+eOk2HoyOYyuHDukuxqIgDLtDE1XkApX4Jt2l6CStgPbaaQWQJfmPBi95WCj6p0oUayBdOOzTMujETnLz+ZZQsLF3UglUoGm6MeSOUfCZ1x1QZXfw//c1NTDufPXGwYHpp4BUB/ldtXo/eI5gTQAUyUiuZDi7u75ufqsxGRtVInDGHuB9OoQJ6cmEJbRz223bmhapx5CA7FJVbtqb0iqSML5Bqy0HUJ+LIft+6Bu1y0ImWdZ6LQwBYPSfU/K5zWP7uKruDiUAFEMsPXmUwqiKqr1MLVbVfeVHG0N0QqmYBpOumTx88PMcZrYbGzSHNBdAeAwamp6W+cPH7G4ZxHBNKZK6SS4AENEkqJ5JbZXDpS/hgIQRQB+NV8UDN+p+rvBLquYeHiDhSmipieLMj6cI6LcsDJq4DcZ8WqyEtpxZz8hSlItVXnrs4jwvpR1ZAmgpfyz1cdAp3B+xDL+qvUKSrHj2wQslHE2nXdmDe/+V7UOrrMKs0VoAMcf3fq7TOvDQ6MeA+yCk4EzzTgQ1yJHPEeUCGA6al8aDknfupqaMAKe5IrYPHdZuo2VWT1FwilqQQlFIRQMMZQKpQxMTqNYr4Mx3ZglW2UCmXZTaUKwIOwWFqp2wYv5UOkCi0JRf9IA4rgFdojwqYUCsX3R3WgzmiEA2KGjXBtiov1Qgi0tjdi9bql6wGsvsKvX6N3meYO0IHp8ZGprx87etKKNzVUwUzUbUDwYFGqYeDiIA7tPx5sDzq9+JEyaveXaopsyGQDr5T/CvR4z+oNQmCWTIwPT2JidAqlQhlmyURhqoTCtNTNOeMKS4yJ5VfSeUmwlIXHAJGAFeEb2lB5KdEONEDsjyv+CDNmvqn7IPKTBJpMeE3+nAl0Xcemm1bm2tubNl1l2Bq9izSXgA4AL5091bNncGAYQQcTn3uo+iui/mNCCEzTxIF9xybHRyffmJossMBV5h+jllsh4Vuci0b09xn+ccZRypcwOTqF6YkC8pNFTE/kvdLMJhhjnipRRTz3pqCCKc5d/brpBCSIFxBcEa+FdI9QqosAAA5tSURBVCtSTebo6wkDRsKAkfTeE7pXtpkE51L18Jk0kqsB3D+y4ngSqlrBWN7N5ALoWjQP7QtaHwRQd9VT1OhdodlMU61GYxNjU3925lTPlnnz23O+z9h2bJSKsrQUpRTpTAp1dRnA86M7jos3XtkrThw9+ecAjl/su7zNsh0tmUpEuF70Q3QjqdzofQ4ff845bFOK5WbRlH7xggknLqL7ri9/4VCGjexW8b9yVuEn9wDE00Wop15QInvVEUp8tg9CQtEdoKCcg1OpWgg/EEkZn+BagK2I47F7EvabVxcvUu0AZHNpNNRnHwPwCIAfXMNpa/RPTHONowPAGyeOndrZ3zcA13Vx7kwvThw+j9GBMuxCEmODNo4eOIfTpy54kXMMe3bsx+GDJ467Nv+fANjkRJG4jhsdNS4eextDAbrqDgAkwK2yifx4HlNj0yhMyZp2paIJzlhg0KqQQKAMGYBQVIgSQv1T5f5EpqLqho5E0kAilYCRMKAZujQ2+nYDX0IhspSWRmX6qm8QtEzH+z6YyjWRP//4XfL0IvgRd8J7VQM5AOi6jmXLO9OaQR/H3HzmbniaaxwdAIrjo1N/tePVtzYv6V44f9WyDdhy1yqk0xkQIgs/TueL2LNnB44dfgflUgl7dx88apvOPwPQB2BTqVAWYaJMXKj0eBmpDuqQBJgr+5BbZQu25cD2DG22JTub+LYEWZwBwfnip5Kc3QMmCVWKYLfA2BZ+9rf7seyKKhzsq+7jOgylUhmTE3kMDoyKC2cvFXv7BieKeTOvGyS7atWSroce3UoTSUOqAlWuWOXyBJXXE1FHZrhn0Vl62wTHwkUdqMuk7p2eKi0BcH6GAWr0LtFcBDoAvNBzrv+fTU3k/3RR5/I1tm0lCCEwEknouobGhhwWLVqC73zn/0OxWNxll53fAXDEO7ZvcqowOTmeb29pbVRE6vhjHH3U/cdTCFnGyjEdlIqmbFfkuLBtVwLccYOou4BtEwLiJ2wLZWwBryW0JjlwkIobziIIfKG+wS0KeD991xfLuZcFZ5oWLMvB2MgkLg+Mor93qHCpf+j82Njk0fGx/DuF6dIOyCCVIoCWM6f6/n0+X3j6kSdup01NuRlj2quCewaRPErBHYRvtg8i8YRAW0cTGptyS6anSttQA/p7TnMV6ALA9ybGJ3f98NkfPty2a+fHjYSxsr6+obmxsTHp2A47ffqdyamJye+5Lv8LAL3KsRcK+dLZ8bHp9uWEQLbvDh9A4VnuRexsQgi4DoNtSa4tAS4r0foA90tWASFjizSCVPVWT6fWdA2apoFqXj08ryyTr4MTbzIy756BuQy27aBUMkFAUCqZKBbLKBbKmJwsYGR4gk1N5CdHRydHHcftGx+fHi1MFs/btvsqgGMARlHZs3yoXLJ/66UX3hro7R38wkc//mB62fKucN5EuR+KUaHSehDn1lV+NiGi64cQ4ADqcxksX7FQ6+sZWn6FAWr0LtFcBbpPl/OT+b/LT+a/A6AVQBtk6x8H8oHu8T6rNM0ZO1Aqlm9XA0JUUVkoTyJnHI7tys4opgx0YS6D6zLYlu3VZhMKMH3OK0HPGItZ2CQYhofHce7MRZRKprQ+My5M0xaFfMmhGuGMCUtwblBNcxhjzHVcUTZt07HsYrlklSanCjYhxLbKtm3Z9pjjuEOO5fRyjn4ApwEMQ1ZwsQGwa7iXI4zxf3nyWM/Jr0//5I8+9okHFm+6eZWyAFUrTX2t2ryQBsP4kb47UMj+6m3tTaAaXccZ1wG4lePU6N2iuQ50n8qQYug1xUsXCuXjfT2DAAKjNACFr3MB5nI4lgPLtOHYIbj9qDbOZNNEUQFiBHXopTU7fJgBKXKfOHYO3/nWK+OXB4efc2x2FBwmZAcTDglQBxKkGe/abG9qRe9lQQKBecc4+KcBhgngv13sHdr3ja//9G8fGhjb9NBj21BXl4afGci9iruV4bqKWK5ydRFmw4WbfNVG+LsAAFrbGmEYtM1iPPFPdD01uka6XoD+yxHH4QtnL47btttMqaffcq90tMsCnZs5blCHzrYcOJYLxiQHV4HrW8t9Ds5cGQgTPMyewZ1SgvPnBvC9b79yuq/n8j+H7EUWlzhmmwSAfeMjU1/+0Xd/8WcXzl/c9unPPZH0O6UKjULjmrwPLvdsHCHAQ7UnFNPVRcFfSCtOKgTa2ptQl6trscypDIDSu36lNQporiS1/FOTbZn2h26+ZVVH0jBQzJdQmCqiMFVEuWjKxoWmtJ5bpu1Z0n3QKzqmEBCMgzMWcPww2i30qAHSmDY8NIF//OZLb5851fcFAK+iUleeS3SJufzZy5dGLp87d/H2pqb6VOeCNs9tJ5s4aDqVvnvfqUYAH+BhjLxvcEOQERtSGE8AEDDGcGjfycL0VPEfAEy/p1f7PqcbFejO9HTx/vb2pjWLl8zzwlNlq6NySZZysi0btu3CddxAVBVeBBrnslEEcxlcJsV6zmI92xG14VuWgx9977XCvr1vfxXA87Nwzb8KlYXAwbGRKfP4sXPbXJelFnS1IZ1Jwo8spLqGREKXvdc0NSafVBruYvdGhsKGsQHMZXhr7wl7ciL/LUgbS43eI7pRgc45E13JpPHIxs0rJdc2ZYMEx3bh2p6Izrh8cY9re9ybcxYA3udQEbe7ovMTSJF9357j1osv7P3fHdv9G8xtTh4nDmC/WbaOnjxxofPC+UuLFi7qIM0t9dA0DZpOoWkUGvWCcbTQi0A1728q95F/Uy/IR4NuyFBc3dChGRp02TfPujww+k0Ag7N94e8nulGBDgCmAD6yYcOyTCKhg7ssrDoDAfglqXj4WbUS+8y7mjNJBT2lBP19Q/jJj3d8a3Bg7F9BGtKuN+IATnMufjYyNNZ15PCZNUII2r1sAZJJwxPPw0IXEuQyNiCI46cyLJfqNBo34KULUyIj9Xa9fig/PDTxdQAjs3vJ7y+6kYEOy7Y+tHTpgvbOzlZwEbYrilRoQegK8t9mciqpUWn+OI7r4rlnd/YfePPkH0BG5l3PVBACvygWy1Mnj59f298/nOtc0IaGxlxgcPQDCIgXb0+p5OT+6heN7JM6vtyPwLFd7N55bGJEAn18Ni7w/Uo3MtALjPHurq72O1atWRyxokdItRhXATmp9h5EwwG7dx5jr/78rX9rms4P/+kvYVbIhMBuBv7Wxb6hhYcOnFro2K7WtbAdmUwyjMtXgE0oCUR7NapvcmIavecH0HthABPjeUxOTOPo4bMnx0an/hbS1Vej94huZKADAsmGxrpnNt20Utc0GoLcF99jwK4G8iCxw7c9+RlklKC3ZxDf/dZLO4eHJ/81bjR3EUcfBH5aLJb7Th6/sODM6b42gNDW1kakM6lorL13k6gmq2ueP3MRb+46jp2vHsP500OYGLVglzS88doBnDvXe5a5/JuQsQM1eo/oxvSjh7R7YGBs/8RE/s729qZIccarxX8FSR2ERNKt/H0Z59i540j+Yv/If8aNq2+Og+OvHdv90dGDZz576u2eT69YuXDdHXdvpptuXoWO+c3Qdd2LGhSYHM/j9VcOoZyn2LhhCx59oBvZbB10TYNhGHjxxZ/j1Kkzl1Hj5u853ehAHx+8PPra0UNn7nzwka2BlB4xslXmt8jNaiaZso+0slOcOd2Pk8fP/xDAi+/i/OcKDQL4M9t0vnXi6Pkn3znV+0RbR9OdK1curl+5ZjE23bQSjDG8+OybuHP7/di27TYkk0lwzsC49Gww18WFngumbTrPYu4FEd3wdKMDHbbpvnH48JnpbXdsqPf9wz5Vy88mJPwi8JNHdpCNGXbvPGpe6h/5Dq5PK/uvSv0A/m/XZn93uX/01sv9ox/c9cbhO1rbGrfk6jOaTjN45qn2wGVJqQZKKLgmcOzYcezff/BVAC/M9kW8H+lqSdk3AqXSudTffO7zH/jMrdvWgXlVZoEZ8q+vkKdOIF1LZ09fxF//1+/tGBmcfAa1wI95oPgEIeSDVCMLW5qaGxYvXtSyaNEi2tHRjlQqhbGxMbyxY8fZC+f6vgjUOqzOBr0fgA4AD27cvOJHX/7dZ+rq6lIAookXnv14xruhFoZgjOOb/+/P3Fdefuu3wPA/3oO5Xy+UBdAAmWF4B4CbKIUGjTpgfIxz/COAw7M6w/91mkHRm/t0w4vuHu0//U7fW8ePnrvvnvtvBvOTLoRfeJGHPd28A/yiEMofoJTg1Nu9OLD/5CGw94Vu/stQwXtdggQ04RzES+C/LsFRha7b67ix3Wshma7Lhk3TfmzthqXpXH0mrK+maaCaJgtE6Do0TdZb8wszhuWgZMDHcz983Tx9su+rAPbM6hVdH3TdAuNGo/cL0AHgwujIeJ1pWneu37icJBJGELWl6TSIyfbLJeuGHsRvAzLU9cTRc/jpc7v22qbzHyDzyGtUo+uC3k9AF0Lg8OXLI/NLRWvT5ltWkUTSgGZoMAwduq7BdhyMjkziUv8wLl0cxtDgGKYmC6jLZWAYBn7ygzfcM6f6/iOAXbN9MTWq0S9D7xcd3acJs+T88c7XDzUvW9H15IOP3wZKKPp6B3HqRA9GB4uwTYGW5jYQSlEsFjE0OIh03VmksxQnTpx7HcCPZ/sialSjX5beL1b3OHU1Nuf+8rEn73iqY34zfeXFg3jk4cdw3333oq6uDkbCABGA67qwbQt79ryJ/+P//L/6picLHwPw5mxPvkY1+mXp/cbRfbo4OZ7/zR/+4y8OEkq+eNu2bYs3btyI+vocEokEuJe+qmkUQ0NDePmll3um84U/APDWbE+8RjX6Vej9ytF9IgA2JVLGv2hobHh8/dp1TRs3bsCS7iVIGDpOvn2K7dq159ihQ0f+CMBLsz3ZGtXoV6X3O9B9ygC4B8DHNZ2sydXXE13Ti5MTEy+7Lv82gHOzPL/3I123wSlzkf5/bz+0yDtpF0AAAAAASUVORK5CYII=)"
      ],
      "metadata": {
        "id": "uKCABvMJYFV3"
      }
    },
    {
      "cell_type": "markdown",
      "source": [
        "Fun Facts and General Information (\"Second-order facts,\" sorry Organization of Programming Languages)\n",
        " - Hit or miss -- provides completely random information it learned from thousands of game descriptions\n",
        " - Often grammatically incorrect\n",
        " - Stored in an alternative OpenIE-inspred format"
      ],
      "metadata": {
        "id": "5hwRlHEtUGhS"
      }
    },
    {
      "cell_type": "code",
      "source": [
        "result = bot.process(\"Tell me something interesting.\")"
      ],
      "metadata": {
        "colab": {
          "base_uri": "https://localhost:8080/"
        },
        "id": "DvlhmkGbUHh9",
        "outputId": "ea58afab-3d03-43c3-a890-a55998c70789"
      },
      "execution_count": null,
      "outputs": [
        {
          "output_type": "stream",
          "name": "stdout",
          "text": [
            "Did you know: The two protagonists, trex and muscle sam, is the sons of two legends of the tag team wrestling working in the same company where their fathers had a fundamental role in its creation?\n",
            "Related to game: TREX and Muscle Sam: A New Kickstart!\n"
          ]
        }
      ]
    },
    {
      "cell_type": "code",
      "source": [
        "# Previous response:\n",
        "# Did you know: Drake brothers infiltrates a panamanian jail?\n",
        "# Related to game: Uncharted 4: A Thief's End Special Edition\n",
        "result = bot.process(\"What do the Drake Brothers infiltrate?\")"
      ],
      "metadata": {
        "colab": {
          "base_uri": "https://localhost:8080/"
        },
        "id": "cfufhF9UUw8O",
        "outputId": "40da5698-c105-4cec-ca2b-816b80b46302"
      },
      "execution_count": null,
      "outputs": [
        {
          "output_type": "stream",
          "name": "stdout",
          "text": [
            "1 responses matched your query:\n",
            "Drake Brothers infiltrates a panamanian jail\n"
          ]
        }
      ]
    },
    {
      "cell_type": "code",
      "source": [
        "# From various games\n",
        "result = bot.process(\"Who is the protagonist?\")"
      ],
      "metadata": {
        "colab": {
          "base_uri": "https://localhost:8080/"
        },
        "id": "IZwZwyz9VGD2",
        "outputId": "6b0852e6-9392-462e-b20d-69b012b02a42"
      },
      "execution_count": null,
      "outputs": [
        {
          "output_type": "stream",
          "name": "stdout",
          "text": [
            "2 responses matched your query:\n",
            "The Protagonist is lemeza, a whip wielding adventurer similar to indiana jones exploring the tomb within la - mulana\n",
            "The Protagonist is an ordinary 19 - year - old boy who lives in a small fishing village near suzhou -lrb- 苏州 -rrb-, china\n"
          ]
        }
      ]
    },
    {
      "cell_type": "code",
      "source": [
        "# Extremely specific information from an extremely specific description\n",
        "# Did you know: The protagonist of the new legend of sword and fairy is an orphan who lives with his aunt in a small fishing village near suzhou, china?\n",
        "# Related to game: New Legend of Sword and Fairy\n",
        "result = bot.process(\"Who is the protagonist of the new legend of sword and fairy?\")"
      ],
      "metadata": {
        "colab": {
          "base_uri": "https://localhost:8080/"
        },
        "id": "z29vFUHGVPtG",
        "outputId": "711920e3-6d99-4f49-df7f-7f96b4b34e6f"
      },
      "execution_count": null,
      "outputs": [
        {
          "output_type": "stream",
          "name": "stdout",
          "text": [
            "1 responses matched your query:\n",
            "The Protagonist Of The New Legend Of Sword And Fairy is an orphan who lives with his aunt in a small fishing village near suzhou, china\n"
          ]
        }
      ]
    },
    {
      "cell_type": "markdown",
      "source": [
        "Arbitrary information (about user or anything else)"
      ],
      "metadata": {
        "id": "aiINI-UUTDgk"
      }
    },
    {
      "cell_type": "code",
      "source": [
        "result = bot.process(\"What is Pokemon Pearl?\")"
      ],
      "metadata": {
        "colab": {
          "base_uri": "https://localhost:8080/"
        },
        "id": "oEOJThwyUbiR",
        "outputId": "1bc5e7be-0efa-4cb5-9036-7b6f98c2d5b0"
      },
      "execution_count": null,
      "outputs": [
        {
          "output_type": "stream",
          "name": "stdout",
          "text": [
            "I'm afraid that I don't know much about that.\n"
          ]
        }
      ]
    },
    {
      "cell_type": "code",
      "source": [
        "result = bot.process(\"Pokemon Pearl is a game about diamonds and pearls.\")"
      ],
      "metadata": {
        "colab": {
          "base_uri": "https://localhost:8080/"
        },
        "id": "tl1fCEMAUeHm",
        "outputId": "7fc1167f-9794-42d8-9bfd-b16df3168832"
      },
      "execution_count": null,
      "outputs": [
        {
          "output_type": "stream",
          "name": "stdout",
          "text": [
            "I'll remember that!\n"
          ]
        }
      ]
    },
    {
      "cell_type": "code",
      "source": [
        "result = bot.process(\"What is Pokemon Pearl?\")"
      ],
      "metadata": {
        "colab": {
          "base_uri": "https://localhost:8080/"
        },
        "id": "eR7m0nPtUinT",
        "outputId": "733aebda-7cd4-4818-c088-c497dd3cdd06"
      },
      "execution_count": null,
      "outputs": [
        {
          "output_type": "stream",
          "name": "stdout",
          "text": [
            "1 responses matched your query:\n",
            "Pokemon Pearl is a game about diamonds and pearls\n"
          ]
        }
      ]
    },
    {
      "cell_type": "code",
      "source": [
        "# From a previous run, when I told it \"Minecraft is a game about blocks.\"\n",
        "result = bot.process(\"What is Minecraft?\")"
      ],
      "metadata": {
        "colab": {
          "base_uri": "https://localhost:8080/"
        },
        "id": "-WNMQ95gYYt5",
        "outputId": "e0e441ce-9c60-4807-b33c-31f586ae80c2"
      },
      "execution_count": null,
      "outputs": [
        {
          "output_type": "stream",
          "name": "stdout",
          "text": [
            "1 responses matched your query:\n",
            "Minecraft is a game about blocks\n"
          ]
        }
      ]
    },
    {
      "cell_type": "code",
      "source": [
        "result = bot.process(\"What does Horton hear?\")"
      ],
      "metadata": {
        "colab": {
          "base_uri": "https://localhost:8080/"
        },
        "id": "ndthIZwgUl4P",
        "outputId": "f86aa632-c3b1-4dde-9a9e-2f12c789e4a1"
      },
      "execution_count": null,
      "outputs": [
        {
          "output_type": "stream",
          "name": "stdout",
          "text": [
            "I'm afraid that I don't know much about that.\n"
          ]
        }
      ]
    },
    {
      "cell_type": "code",
      "source": [
        "result = bot.process(\"Horton hears a Who.\")"
      ],
      "metadata": {
        "colab": {
          "base_uri": "https://localhost:8080/"
        },
        "id": "n9TOa9JdUoK2",
        "outputId": "23970595-7873-44d8-b5c3-912cafb14be4"
      },
      "execution_count": null,
      "outputs": [
        {
          "output_type": "stream",
          "name": "stdout",
          "text": [
            "I'll remember that!\n"
          ]
        }
      ]
    },
    {
      "cell_type": "code",
      "source": [
        "result = bot.process(\"Who does Horton hear?\")"
      ],
      "metadata": {
        "colab": {
          "base_uri": "https://localhost:8080/"
        },
        "id": "qVe8tZG3Up5w",
        "outputId": "b413261b-64e4-43b1-d819-4c460cc2287e"
      },
      "execution_count": null,
      "outputs": [
        {
          "output_type": "stream",
          "name": "stdout",
          "text": [
            "1 responses matched your query:\n",
            "Horton hears a who\n"
          ]
        }
      ]
    },
    {
      "cell_type": "markdown",
      "source": [
        "About the user"
      ],
      "metadata": {
        "id": "b-bJR2TYUaXe"
      }
    },
    {
      "cell_type": "code",
      "source": [
        "result = bot.process(\"I like Pokemon Pearl.\")"
      ],
      "metadata": {
        "colab": {
          "base_uri": "https://localhost:8080/"
        },
        "id": "UxS-zMmGIv0k",
        "outputId": "f22351b6-9ec4-470b-d4f3-8e5189a9f35f"
      },
      "execution_count": null,
      "outputs": [
        {
          "output_type": "stream",
          "name": "stdout",
          "text": [
            "I'll remember that!\n"
          ]
        }
      ]
    },
    {
      "cell_type": "code",
      "source": [
        "result = bot.process(\"I like Minecraft.\")"
      ],
      "metadata": {
        "colab": {
          "base_uri": "https://localhost:8080/"
        },
        "id": "WhXvlwbhQnO7",
        "outputId": "dfb4b5cb-ce6c-4b6a-818b-3caacc913c9f"
      },
      "execution_count": null,
      "outputs": [
        {
          "output_type": "stream",
          "name": "stdout",
          "text": [
            "I'll remember that!\n"
          ]
        }
      ]
    },
    {
      "cell_type": "code",
      "source": [
        "result = bot.process(\"I like Four Rhythm Across.\")"
      ],
      "metadata": {
        "colab": {
          "base_uri": "https://localhost:8080/"
        },
        "id": "zWxbyoqgRdpw",
        "outputId": "33162c5f-fdad-4bc1-cce3-9fc5b13dc52d"
      },
      "execution_count": null,
      "outputs": [
        {
          "output_type": "stream",
          "name": "stdout",
          "text": [
            "I'll remember that!\n"
          ]
        }
      ]
    },
    {
      "cell_type": "code",
      "source": [
        "# Drawback! \"blue\" is parsed as an adjective, but \"the color gold\" seems to be\n",
        "# fine. CoreNLP tree generation issue?\n",
        "result = bot.process(\"I like the color gold.\")"
      ],
      "metadata": {
        "colab": {
          "base_uri": "https://localhost:8080/"
        },
        "id": "zZUK6Ll-Rp-U",
        "outputId": "6f94e5b1-ef4c-42a8-f26b-0b5b17fda4e4"
      },
      "execution_count": null,
      "outputs": [
        {
          "output_type": "stream",
          "name": "stdout",
          "text": [
            "I'll remember that!\n"
          ]
        }
      ]
    },
    {
      "cell_type": "code",
      "source": [
        "result = bot.process(\"I dislike League of Legends.\")"
      ],
      "metadata": {
        "colab": {
          "base_uri": "https://localhost:8080/"
        },
        "id": "30RCdXdiQoap",
        "outputId": "c54b344f-4fd6-40b3-fe6b-019ef7010777"
      },
      "execution_count": null,
      "outputs": [
        {
          "output_type": "stream",
          "name": "stdout",
          "text": [
            "I'll remember that!\n"
          ]
        }
      ]
    },
    {
      "cell_type": "code",
      "source": [
        "result = bot.process(\"I dislike the color red.\")"
      ],
      "metadata": {
        "colab": {
          "base_uri": "https://localhost:8080/"
        },
        "id": "cvoNnw09RTGl",
        "outputId": "708abf80-7e5f-4204-ace2-fc1f98df16da"
      },
      "execution_count": null,
      "outputs": [
        {
          "output_type": "stream",
          "name": "stdout",
          "text": [
            "I'll remember that!\n"
          ]
        }
      ]
    },
    {
      "cell_type": "code",
      "source": [
        "result = bot.process(\"What do I like?\")"
      ],
      "metadata": {
        "colab": {
          "base_uri": "https://localhost:8080/"
        },
        "id": "K1L4_broI_1c",
        "outputId": "dccebe7d-1e4f-4c57-9ac7-a2d7680562ba"
      },
      "execution_count": null,
      "outputs": [
        {
          "output_type": "stream",
          "name": "stdout",
          "text": [
            "4 responses matched your query:\n",
            "Tom likes Pokémon Pearl\n",
            "Tom likes Minecraft\n",
            "Tom likes Aokana: Four Rhythm Across the Blue\n",
            "Tom likes the color gold\n"
          ]
        }
      ]
    },
    {
      "cell_type": "code",
      "source": [
        "result = bot.process(\"What do I dislike?\")"
      ],
      "metadata": {
        "colab": {
          "base_uri": "https://localhost:8080/"
        },
        "id": "TjJmDlMvRXtS",
        "outputId": "df6e9f47-bc24-4e04-c6b9-214544044906"
      },
      "execution_count": null,
      "outputs": [
        {
          "output_type": "stream",
          "name": "stdout",
          "text": [
            "2 responses matched your query:\n",
            "Tom dislikes League of Legends\n",
            "Tom dislikes the color red\n"
          ]
        }
      ]
    },
    {
      "cell_type": "code",
      "source": [
        "result = bot.process(\"I am a human.\")"
      ],
      "metadata": {
        "colab": {
          "base_uri": "https://localhost:8080/"
        },
        "id": "m1ItOmEVSvgd",
        "outputId": "72c8a116-a8a2-4319-c590-43e3bb7f8182"
      },
      "execution_count": null,
      "outputs": [
        {
          "output_type": "stream",
          "name": "stdout",
          "text": [
            "I'll remember that!\n"
          ]
        }
      ]
    },
    {
      "cell_type": "code",
      "source": [
        "# Heh, apparently it finds a note that \"Tom is [in] deep trouble\" in its\n",
        "# general knowledgebase. Prepositions aren't its strong suit.\n",
        "result = bot.process(\"What am I?\")"
      ],
      "metadata": {
        "colab": {
          "base_uri": "https://localhost:8080/"
        },
        "id": "XedLCFaqYyYw",
        "outputId": "bc43ecb5-61db-4fb2-b653-ef32cc620489"
      },
      "execution_count": null,
      "outputs": [
        {
          "output_type": "stream",
          "name": "stdout",
          "text": [
            "1 responses matched your query:\n",
            "Tom is a human\n"
          ]
        }
      ]
    },
    {
      "cell_type": "markdown",
      "source": [
        "User Model"
      ],
      "metadata": {
        "id": "fiWKO3cZSEyP"
      }
    },
    {
      "cell_type": "code",
      "source": [
        "# Manually log out (without the loop)\n",
        "bot.username = None\n",
        "bot.set(\"username\", \"\")\n",
        "bot.ensure_username()"
      ],
      "metadata": {
        "colab": {
          "base_uri": "https://localhost:8080/"
        },
        "id": "FEQSXK6iQmM2",
        "outputId": "fd45f98a-5c36-4c75-e08a-cd977eac026f"
      },
      "execution_count": null,
      "outputs": [
        {
          "output_type": "stream",
          "name": "stdout",
          "text": [
            "No username has been selected. Please enter a valid one-word username.\n",
            "> usaid\n",
            "Your name is usaid. Is this correct?\n",
            "Y/n: y\n",
            "Username selected: Usaid\n",
            "Type \"logout\" to log out.\n"
          ]
        }
      ]
    },
    {
      "cell_type": "code",
      "source": [
        "result = bot.process(\"I am a person.\")"
      ],
      "metadata": {
        "colab": {
          "base_uri": "https://localhost:8080/"
        },
        "id": "fFUv-0m2SyGe",
        "outputId": "a20f4fc9-8737-46fc-fc15-729aa945ef66"
      },
      "execution_count": null,
      "outputs": [
        {
          "output_type": "stream",
          "name": "stdout",
          "text": [
            "I'll remember that!\n"
          ]
        }
      ]
    },
    {
      "cell_type": "code",
      "source": [
        "result = bot.process(\"What do I like?\")"
      ],
      "metadata": {
        "colab": {
          "base_uri": "https://localhost:8080/"
        },
        "id": "hlXro7CUSQ9_",
        "outputId": "aa06baeb-64a8-4c7e-cfd6-c61447238fb0"
      },
      "execution_count": null,
      "outputs": [
        {
          "output_type": "stream",
          "name": "stdout",
          "text": [
            "I'm afraid that I don't know much about that.\n"
          ]
        }
      ]
    },
    {
      "cell_type": "code",
      "source": [
        "result = bot.process(\"I like League of Legends.\")"
      ],
      "metadata": {
        "colab": {
          "base_uri": "https://localhost:8080/"
        },
        "id": "I1wn-hCKSXHa",
        "outputId": "02aaec92-7362-4768-c31b-c599daa5cf43"
      },
      "execution_count": null,
      "outputs": [
        {
          "output_type": "stream",
          "name": "stdout",
          "text": [
            "I'll remember that!\n"
          ]
        }
      ]
    },
    {
      "cell_type": "code",
      "source": [
        "result = bot.process(\"What do I like?\")"
      ],
      "metadata": {
        "colab": {
          "base_uri": "https://localhost:8080/"
        },
        "id": "LT79NtaYScNp",
        "outputId": "a3ccefa6-7020-4b53-f014-af7c68bf18ca"
      },
      "execution_count": null,
      "outputs": [
        {
          "output_type": "stream",
          "name": "stdout",
          "text": [
            "1 responses matched your query:\n",
            "Usaid likes League of Legends\n"
          ]
        }
      ]
    },
    {
      "cell_type": "code",
      "source": [
        "result = bot.process(\"What does Tom like?\")"
      ],
      "metadata": {
        "colab": {
          "base_uri": "https://localhost:8080/"
        },
        "id": "Eez1ryfeSVlq",
        "outputId": "a5e6cc7e-1252-4a27-d1c1-4db1ec87d8ae"
      },
      "execution_count": null,
      "outputs": [
        {
          "output_type": "stream",
          "name": "stdout",
          "text": [
            "4 responses matched your query:\n",
            "Tom likes Pokémon Pearl\n",
            "Tom likes Minecraft\n",
            "Tom likes Aokana: Four Rhythm Across the Blue\n",
            "Tom likes the color gold\n"
          ]
        }
      ]
    },
    {
      "cell_type": "code",
      "source": [
        "result = bot.process(\"What am I?\")"
      ],
      "metadata": {
        "colab": {
          "base_uri": "https://localhost:8080/"
        },
        "id": "kEoUGwDWS0dl",
        "outputId": "e1687e94-0d4c-4d16-c711-73f7ce0b05d9"
      },
      "execution_count": null,
      "outputs": [
        {
          "output_type": "stream",
          "name": "stdout",
          "text": [
            "1 responses matched your query:\n",
            "Usaid is a person\n"
          ]
        }
      ]
    },
    {
      "cell_type": "code",
      "source": [
        "result = bot.process(\"What is Tom?\")"
      ],
      "metadata": {
        "colab": {
          "base_uri": "https://localhost:8080/"
        },
        "id": "4-SJymsGS1gO",
        "outputId": "b22924cb-400f-4eab-86cf-a535876090bc"
      },
      "execution_count": null,
      "outputs": [
        {
          "output_type": "stream",
          "name": "stdout",
          "text": [
            "1 responses matched your query:\n",
            "Tom is a human\n"
          ]
        }
      ]
    },
    {
      "cell_type": "markdown",
      "source": [
        "All good things must come to an end"
      ],
      "metadata": {
        "id": "J4PoytrQShR3"
      }
    },
    {
      "cell_type": "code",
      "source": [
        "# The chatbot can forget\n",
        "result = bot.process(\"What do I like?\")"
      ],
      "metadata": {
        "colab": {
          "base_uri": "https://localhost:8080/"
        },
        "id": "e2jJRayeSi12",
        "outputId": "7e7890d9-476c-4349-c655-e9140731ba16"
      },
      "execution_count": null,
      "outputs": [
        {
          "output_type": "stream",
          "name": "stdout",
          "text": [
            "1 responses matched your query:\n",
            "Usaid likes League of Legends\n"
          ]
        }
      ]
    },
    {
      "cell_type": "code",
      "source": [
        "result = bot.process(\"Forget about me.\")"
      ],
      "metadata": {
        "colab": {
          "base_uri": "https://localhost:8080/"
        },
        "id": "-xy7dKBLSk63",
        "outputId": "6c6e147c-af1d-4aec-f352-154ed7a095fc"
      },
      "execution_count": null,
      "outputs": [
        {
          "output_type": "stream",
          "name": "stdout",
          "text": [
            "I've removed everything related to usaid.\n"
          ]
        }
      ]
    },
    {
      "cell_type": "code",
      "source": [
        "result = bot.process(\"What do I like?\")"
      ],
      "metadata": {
        "colab": {
          "base_uri": "https://localhost:8080/"
        },
        "id": "LHtyf2FcSm8j",
        "outputId": "00ea5135-0d99-45fe-b72e-f66b0e553f25"
      },
      "execution_count": null,
      "outputs": [
        {
          "output_type": "stream",
          "name": "stdout",
          "text": [
            "I'm afraid that I don't know much about that.\n"
          ]
        }
      ]
    },
    {
      "cell_type": "markdown",
      "source": [
        "You can do it with arbitrary facts."
      ],
      "metadata": {
        "id": "eRC6wmPJSn7j"
      }
    },
    {
      "cell_type": "code",
      "source": [
        "# \"do\" doesn't work, due to misattribution of the predicate\n",
        "result = bot.process(\"Humans hurt a lot of other people.\")\n",
        "result = bot.process(\"Humans help a lot of other people.\")"
      ],
      "metadata": {
        "colab": {
          "base_uri": "https://localhost:8080/"
        },
        "id": "UkJlmhIlSpiW",
        "outputId": "a97ed2b6-83fe-4998-fa19-34c0792dc4b6"
      },
      "execution_count": null,
      "outputs": [
        {
          "output_type": "stream",
          "name": "stdout",
          "text": [
            "I'll remember that!\n",
            "I'll remember that!\n"
          ]
        }
      ]
    },
    {
      "cell_type": "code",
      "source": [
        "result = bot.process(\"Who do humans help?\")\n",
        "result = bot.process(\"Who do humans hurt?\")"
      ],
      "metadata": {
        "colab": {
          "base_uri": "https://localhost:8080/"
        },
        "id": "F79NeazgVidI",
        "outputId": "ed9e63ef-14ce-46c0-b31a-fddadd9c24f3"
      },
      "execution_count": null,
      "outputs": [
        {
          "output_type": "stream",
          "name": "stdout",
          "text": [
            "1 responses matched your query:\n",
            "Humans help a lot of other people\n",
            "1 responses matched your query:\n",
            "Humans hurt a lot of other people\n"
          ]
        }
      ]
    },
    {
      "cell_type": "code",
      "source": [
        "# TODO: Support ADJP arbitrarily\n",
        "#!python3 corenlp.py"
      ],
      "metadata": {
        "id": "QJMs_oUiWQT1"
      },
      "execution_count": null,
      "outputs": []
    },
    {
      "cell_type": "markdown",
      "source": [
        "Arbitrary Facts"
      ],
      "metadata": {
        "id": "w6JFFmXfOdxe"
      }
    },
    {
      "cell_type": "code",
      "source": [
        "result = bot.process(\"Dr. Mazidi is a legend.\")"
      ],
      "metadata": {
        "colab": {
          "base_uri": "https://localhost:8080/"
        },
        "id": "IsyHLmUWOfCA",
        "outputId": "81920fef-006d-4469-ed98-c3560acf8cba"
      },
      "execution_count": null,
      "outputs": [
        {
          "output_type": "stream",
          "name": "stdout",
          "text": [
            "I'll remember that!\n"
          ]
        }
      ]
    },
    {
      "cell_type": "code",
      "source": [
        "result = bot.process(\"What is Dr. Mazidi?\")"
      ],
      "metadata": {
        "colab": {
          "base_uri": "https://localhost:8080/"
        },
        "id": "3-oNOyUGOhrR",
        "outputId": "d77b1f47-6626-4f34-8de1-69b5f5dcc5a1"
      },
      "execution_count": null,
      "outputs": [
        {
          "output_type": "stream",
          "name": "stdout",
          "text": [
            "1 responses matched your query:\n",
            "Dr. Mazidi is a legend\n"
          ]
        }
      ]
    },
    {
      "cell_type": "code",
      "source": [
        "result = bot.process(\"Dr. Mazidi passes all her students.\")"
      ],
      "metadata": {
        "colab": {
          "base_uri": "https://localhost:8080/"
        },
        "id": "QquscPePOj-K",
        "outputId": "597ffa0e-fca0-4b30-ed72-7ce8e12d583f"
      },
      "execution_count": null,
      "outputs": [
        {
          "output_type": "stream",
          "name": "stdout",
          "text": [
            "I'll remember that!\n"
          ]
        }
      ]
    },
    {
      "cell_type": "code",
      "source": [
        "result = bot.process(\"Who does Dr. Mazidi pass?\")"
      ],
      "metadata": {
        "colab": {
          "base_uri": "https://localhost:8080/"
        },
        "id": "1hSmNVzWOnNH",
        "outputId": "f1a6d8a7-6cb2-43da-9567-90cf06c79606"
      },
      "execution_count": null,
      "outputs": [
        {
          "output_type": "stream",
          "name": "stdout",
          "text": [
            "1 responses matched your query:\n",
            "Dr. Mazidi passs all her students\n"
          ]
        }
      ]
    },
    {
      "cell_type": "markdown",
      "source": [
        "You can even clear out arbitrary facts."
      ],
      "metadata": {
        "id": "QN0RfRKVWuSU"
      }
    },
    {
      "cell_type": "code",
      "source": [
        "result = bot.process(\"What did Notch begin?\")"
      ],
      "metadata": {
        "colab": {
          "base_uri": "https://localhost:8080/"
        },
        "id": "R1A0Ju5ZWwJm",
        "outputId": "8c39ef48-d794-4fc5-c246-5d7ea0a40338"
      },
      "execution_count": null,
      "outputs": [
        {
          "output_type": "stream",
          "name": "stdout",
          "text": [
            "1 responses matched your query:\n",
            "Notch begins development on may 10, 2009\n"
          ]
        }
      ]
    },
    {
      "cell_type": "code",
      "source": [
        "result = bot.process(\"Forget about Notch.\")"
      ],
      "metadata": {
        "colab": {
          "base_uri": "https://localhost:8080/"
        },
        "id": "ivvpoRgPWzxt",
        "outputId": "89cfce29-5a3b-4579-9521-fb86b977341f"
      },
      "execution_count": null,
      "outputs": [
        {
          "output_type": "stream",
          "name": "stdout",
          "text": [
            "I've removed everything related to notch.\n"
          ]
        }
      ]
    },
    {
      "cell_type": "code",
      "source": [
        "result = bot.process(\"What did Notch begin?\")"
      ],
      "metadata": {
        "colab": {
          "base_uri": "https://localhost:8080/"
        },
        "id": "02wIOz3jW2Zq",
        "outputId": "23eaf958-25a6-42a6-cb92-1e7e97390855"
      },
      "execution_count": null,
      "outputs": [
        {
          "output_type": "stream",
          "name": "stdout",
          "text": [
            "I'm afraid that I don't know much about that.\n"
          ]
        }
      ]
    },
    {
      "cell_type": "markdown",
      "source": [
        "Database examination"
      ],
      "metadata": {
        "id": "ffdbiM54ab_T"
      }
    },
    {
      "cell_type": "code",
      "source": [
        "!echo \"SELECT name FROM games ORDER BY rating DESC LIMIT 10;\" | sqlite3 games.sqlite"
      ],
      "metadata": {
        "colab": {
          "base_uri": "https://localhost:8080/"
        },
        "id": "Apu4lbLgaLqX",
        "outputId": "36524de2-5d96-486f-f3ca-710c09df045f"
      },
      "execution_count": null,
      "outputs": [
        {
          "output_type": "stream",
          "name": "stdout",
          "text": [
            "NASCAR Racing 2003 Season\n",
            "Anstoss 3\n",
            "Fate/Grand Order\n",
            "Wizardry: Bane of the Cosmic Forge\n",
            "Fate/hollow ataraxia\n",
            "Ogre Battle 64: Person of Lordly Caliber\n",
            "Super Mario World\n",
            "Super Metroid\n",
            "BroodStar\n",
            "The Legend of Zelda: A Link to the Past\n"
          ]
        }
      ]
    },
    {
      "cell_type": "code",
      "source": [
        "!echo \"SELECT subject, relation, object FROM relations LIMIT 10;\" | sqlite3 games.sqlite"
      ],
      "metadata": {
        "colab": {
          "base_uri": "https://localhost:8080/"
        },
        "id": "glUIfz7caa72",
        "outputId": "305fc150-036f-4111-d61e-ea04135f159a"
      },
      "execution_count": null,
      "outputs": [
        {
          "output_type": "stream",
          "name": "stdout",
          "text": [
            "\" alien life cycle \"|play|a crucial role in the game\n",
            "\" arcade \" fix it felix jr.|be|the basis of the disney animated movie wreck - it ralph\n",
            "\" colorful fighters \" code shifter|feature|a brawler mini-game that allows up to 4 players to duke it out in a free - for - all\n",
            "\" control a short - panted' peasant' named rather dashing as peasant's quest|stumble|peasantry in his' quest '\n",
            "\" cytus ii \"|be|a music rhythm game created by rayark games\n",
            "\" echo \"|be|an action role playing game\n",
            "\" hal \"|assume|the identity of a guard at the town's resort\n",
            "\" konpa school \"|master|\" command technique \" style\n",
            "\" konpa school \"|master|\" command technique \" style\n",
            "\" madagascar kartz like to move madagascar kartz \", sung by reel 2 real|be|the menu theme\n"
          ]
        }
      ]
    },
    {
      "cell_type": "code",
      "source": [
        "!echo \"SELECT name FROM franchises LIMIT 10;\" | sqlite3 games.sqlite"
      ],
      "metadata": {
        "colab": {
          "base_uri": "https://localhost:8080/"
        },
        "id": "l49r6V1aajJ5",
        "outputId": "6c84a30f-d72e-4395-f8fe-a7256d664681"
      },
      "execution_count": null,
      "outputs": [
        {
          "output_type": "stream",
          "name": "stdout",
          "text": [
            "VOCALOID\n",
            "NextRev\n",
            "Tuned Turtle\n",
            "Austin Powers\n",
            "The Simpsons\n",
            "Kung Fu Panda\n",
            "AVARIA\n",
            "Bicycle\n",
            "Trivial Pursuit\n",
            "Medabots\n"
          ]
        }
      ]
    }
  ]
}